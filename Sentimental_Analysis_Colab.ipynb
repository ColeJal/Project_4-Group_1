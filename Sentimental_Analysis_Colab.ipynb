{
  "cells": [
    {
      "cell_type": "code",
      "execution_count": 1,
      "id": "8f965746",
      "metadata": {
        "id": "8f965746"
      },
      "outputs": [],
      "source": [
        "# import required libraries\n",
        "import nltk\n",
        "from nltk import word_tokenize\n",
        "from nltk.corpus import stopwords\n",
        "\n",
        "from sklearn.feature_extraction.text import TfidfVectorizer\n",
        "from sklearn.model_selection import train_test_split\n",
        "from sklearn.metrics import classification_report, confusion_matrix\n",
        "from nltk.stem import WordNetLemmatizer\n",
        "import matplotlib.pyplot as plt\n",
        "%matplotlib inline\n",
        "\n",
        "import pandas as pd\n",
        "import string"
      ]
    },
    {
      "cell_type": "code",
      "execution_count": 2,
      "id": "98da782e",
      "metadata": {
        "colab": {
          "base_uri": "https://localhost:8080/"
        },
        "id": "98da782e",
        "outputId": "676a3297-6af5-412c-f3e9-2b1e7436fede"
      },
      "outputs": [
        {
          "name": "stderr",
          "output_type": "stream",
          "text": [
            "[nltk_data] Downloading package punkt to /root/nltk_data...\n",
            "[nltk_data]   Unzipping tokenizers/punkt.zip.\n",
            "[nltk_data] Downloading package stopwords to /root/nltk_data...\n",
            "[nltk_data]   Unzipping corpora/stopwords.zip.\n",
            "[nltk_data] Downloading package wordnet to /root/nltk_data...\n",
            "[nltk_data] Downloading package omw-1.4 to /root/nltk_data...\n"
          ]
        },
        {
          "data": {
            "text/plain": [
              "True"
            ]
          },
          "execution_count": 2,
          "metadata": {},
          "output_type": "execute_result"
        }
      ],
      "source": [
        "# download punctuation and stopwords from nltk\n",
        "nltk.download('punkt')\n",
        "nltk.download(\"stopwords\")\n",
        "nltk.download('wordnet')\n",
        "nltk.download('omw-1.4')"
      ]
    },
    {
      "cell_type": "code",
      "execution_count": 5,
      "id": "wJuTq-P9LO38",
      "metadata": {
        "colab": {
          "base_uri": "https://localhost:8080/"
        },
        "id": "wJuTq-P9LO38",
        "outputId": "ce716a85-05a8-4ee3-acb5-aea60265cde0"
      },
      "outputs": [
        {
          "name": "stdout",
          "output_type": "stream",
          "text": [
            "\r0% [Working]\r            \rGet:1 https://cloud.r-project.org/bin/linux/ubuntu bionic-cran40/ InRelease [3,626 B]\n",
            "\r0% [Connecting to archive.ubuntu.com (91.189.91.38)] [Connecting to security.ub\r0% [Connecting to archive.ubuntu.com (91.189.91.38)] [Connecting to security.ub\r                                                                               \rIgn:2 https://developer.download.nvidia.com/compute/machine-learning/repos/ubuntu1804/x86_64  InRelease\n",
            "\r                                                                               \rGet:3 https://developer.download.nvidia.com/compute/cuda/repos/ubuntu1804/x86_64  InRelease [1,581 B]\n",
            "\r0% [Waiting for headers] [Connecting to security.ubuntu.com (185.125.190.36)] [\r0% [Waiting for headers] [Connecting to security.ubuntu.com (185.125.190.36)] [\r0% [1 InRelease gpgv 3,626 B] [Waiting for headers] [Connecting to security.ubu\r                                                                               \rHit:4 https://developer.download.nvidia.com/compute/machine-learning/repos/ubuntu1804/x86_64  Release\n",
            "\r0% [1 InRelease gpgv 3,626 B] [Waiting for headers] [Connecting to security.ubu\r                                                                               \rHit:5 http://archive.ubuntu.com/ubuntu bionic InRelease\n",
            "\r0% [1 InRelease gpgv 3,626 B] [Waiting for headers] [Waiting for headers] [Wait\r                                                                               \rGet:6 http://archive.ubuntu.com/ubuntu bionic-updates InRelease [88.7 kB]\n",
            "\r0% [1 InRelease gpgv 3,626 B] [6 InRelease 14.2 kB/88.7 kB 16%] [Waiting for he\r                                                                               \rGet:7 http://security.ubuntu.com/ubuntu bionic-security InRelease [88.7 kB]\n",
            "Hit:8 http://ppa.launchpad.net/c2d4u.team/c2d4u4.0+/ubuntu bionic InRelease\n",
            "Get:9 https://developer.download.nvidia.com/compute/cuda/repos/ubuntu1804/x86_64  Packages [1,039 kB]\n",
            "Get:10 http://archive.ubuntu.com/ubuntu bionic-backports InRelease [83.3 kB]\n",
            "Hit:11 http://ppa.launchpad.net/cran/libgit2/ubuntu bionic InRelease\n",
            "Hit:13 http://ppa.launchpad.net/deadsnakes/ppa/ubuntu bionic InRelease\n",
            "Get:14 http://ppa.launchpad.net/graphics-drivers/ppa/ubuntu bionic InRelease [21.3 kB]\n",
            "Get:15 http://archive.ubuntu.com/ubuntu bionic-updates/main amd64 Packages [3,519 kB]\n",
            "Get:16 http://archive.ubuntu.com/ubuntu bionic-updates/restricted amd64 Packages [1,334 kB]\n",
            "Get:17 http://archive.ubuntu.com/ubuntu bionic-updates/universe amd64 Packages [2,342 kB]\n",
            "Get:18 http://security.ubuntu.com/ubuntu bionic-security/main amd64 Packages [3,094 kB]\n",
            "Get:19 http://ppa.launchpad.net/graphics-drivers/ppa/ubuntu bionic/main amd64 Packages [38.5 kB]\n",
            "Get:20 http://security.ubuntu.com/ubuntu bionic-security/restricted amd64 Packages [1,294 kB]\n",
            "Get:21 http://security.ubuntu.com/ubuntu bionic-security/universe amd64 Packages [1,568 kB]\n",
            "Fetched 14.5 MB in 3s (4,148 kB/s)\n",
            "Reading package lists... Done\n"
          ]
        }
      ],
      "source": [
        "import os\n",
        "# Find the latest version of spark 3.2  from http://www.apache.org/dist/spark/ and enter as the spark version\n",
        "# For example:\n",
        "spark_version = 'spark-3.2.3'\n",
        "# spark_version = 'spark-3.<enter version>'\n",
        "os.environ['SPARK_VERSION']=spark_version\n",
        "\n",
        "# Install Spark and Java\n",
        "!apt-get update\n",
        "!apt-get install openjdk-8-jdk-headless -qq > /dev/null\n",
        "!wget -q http://www.apache.org/dist/spark/$SPARK_VERSION/$SPARK_VERSION-bin-hadoop2.7.tgz\n",
        "!tar xf $SPARK_VERSION-bin-hadoop2.7.tgz\n",
        "!pip install -q findspark\n",
        "\n",
        "# Set Environment Variables\n",
        "os.environ[\"JAVA_HOME\"] = \"/usr/lib/jvm/java-8-openjdk-amd64\"\n",
        "os.environ[\"SPARK_HOME\"] = f\"/content/{spark_version}-bin-hadoop2.7\"\n",
        "\n",
        "# Start a SparkSession\n",
        "import findspark\n",
        "findspark.init()"
      ]
    },
    {
      "cell_type": "markdown",
      "id": "4c986391",
      "metadata": {
        "id": "4c986391"
      },
      "source": [
        "# Transform the data"
      ]
    },
    {
      "cell_type": "code",
      "execution_count": 7,
      "id": "c503a564",
      "metadata": {
        "colab": {
          "base_uri": "https://localhost:8080/",
          "height": 424
        },
        "id": "c503a564",
        "outputId": "247d7326-a3cb-4fdb-c0cd-ee4790733310"
      },
      "outputs": [
        {
          "data": {
            "text/html": [
              "\n",
              "  <div id=\"df-a3c745c8-73d9-4c29-80ea-98c8ef7c9c58\">\n",
              "    <div class=\"colab-df-container\">\n",
              "      <div>\n",
              "<style scoped>\n",
              "    .dataframe tbody tr th:only-of-type {\n",
              "        vertical-align: middle;\n",
              "    }\n",
              "\n",
              "    .dataframe tbody tr th {\n",
              "        vertical-align: top;\n",
              "    }\n",
              "\n",
              "    .dataframe thead th {\n",
              "        text-align: right;\n",
              "    }\n",
              "</style>\n",
              "<table border=\"1\" class=\"dataframe\">\n",
              "  <thead>\n",
              "    <tr style=\"text-align: right;\">\n",
              "      <th></th>\n",
              "      <th>textID</th>\n",
              "      <th>text</th>\n",
              "      <th>selected_text</th>\n",
              "      <th>sentiment</th>\n",
              "    </tr>\n",
              "  </thead>\n",
              "  <tbody>\n",
              "    <tr>\n",
              "      <th>0</th>\n",
              "      <td>cb774db0d1</td>\n",
              "      <td>I`d have responded, if I were going</td>\n",
              "      <td>I`d have responded, if I were going</td>\n",
              "      <td>neutral</td>\n",
              "    </tr>\n",
              "    <tr>\n",
              "      <th>1</th>\n",
              "      <td>549e992a42</td>\n",
              "      <td>Sooo SAD I will miss you here in San Diego!!!</td>\n",
              "      <td>Sooo SAD</td>\n",
              "      <td>negative</td>\n",
              "    </tr>\n",
              "    <tr>\n",
              "      <th>2</th>\n",
              "      <td>088c60f138</td>\n",
              "      <td>my boss is bullying me...</td>\n",
              "      <td>bullying me</td>\n",
              "      <td>negative</td>\n",
              "    </tr>\n",
              "    <tr>\n",
              "      <th>3</th>\n",
              "      <td>9642c003ef</td>\n",
              "      <td>what interview! leave me alone</td>\n",
              "      <td>leave me alone</td>\n",
              "      <td>negative</td>\n",
              "    </tr>\n",
              "    <tr>\n",
              "      <th>4</th>\n",
              "      <td>358bd9e861</td>\n",
              "      <td>Sons of ****, why couldn`t they put them on t...</td>\n",
              "      <td>Sons of ****,</td>\n",
              "      <td>negative</td>\n",
              "    </tr>\n",
              "    <tr>\n",
              "      <th>...</th>\n",
              "      <td>...</td>\n",
              "      <td>...</td>\n",
              "      <td>...</td>\n",
              "      <td>...</td>\n",
              "    </tr>\n",
              "    <tr>\n",
              "      <th>27476</th>\n",
              "      <td>4eac33d1c0</td>\n",
              "      <td>wish we could come see u on Denver  husband l...</td>\n",
              "      <td>d lost</td>\n",
              "      <td>negative</td>\n",
              "    </tr>\n",
              "    <tr>\n",
              "      <th>27477</th>\n",
              "      <td>4f4c4fc327</td>\n",
              "      <td>I`ve wondered about rake to.  The client has ...</td>\n",
              "      <td>, don`t force</td>\n",
              "      <td>negative</td>\n",
              "    </tr>\n",
              "    <tr>\n",
              "      <th>27478</th>\n",
              "      <td>f67aae2310</td>\n",
              "      <td>Yay good for both of you. Enjoy the break - y...</td>\n",
              "      <td>Yay good for both of you.</td>\n",
              "      <td>positive</td>\n",
              "    </tr>\n",
              "    <tr>\n",
              "      <th>27479</th>\n",
              "      <td>ed167662a5</td>\n",
              "      <td>But it was worth it  ****.</td>\n",
              "      <td>But it was worth it  ****.</td>\n",
              "      <td>positive</td>\n",
              "    </tr>\n",
              "    <tr>\n",
              "      <th>27480</th>\n",
              "      <td>6f7127d9d7</td>\n",
              "      <td>All this flirting going on - The ATG smiles...</td>\n",
              "      <td>All this flirting going on - The ATG smiles. Y...</td>\n",
              "      <td>neutral</td>\n",
              "    </tr>\n",
              "  </tbody>\n",
              "</table>\n",
              "<p>27481 rows × 4 columns</p>\n",
              "</div>\n",
              "      <button class=\"colab-df-convert\" onclick=\"convertToInteractive('df-a3c745c8-73d9-4c29-80ea-98c8ef7c9c58')\"\n",
              "              title=\"Convert this dataframe to an interactive table.\"\n",
              "              style=\"display:none;\">\n",
              "        \n",
              "  <svg xmlns=\"http://www.w3.org/2000/svg\" height=\"24px\"viewBox=\"0 0 24 24\"\n",
              "       width=\"24px\">\n",
              "    <path d=\"M0 0h24v24H0V0z\" fill=\"none\"/>\n",
              "    <path d=\"M18.56 5.44l.94 2.06.94-2.06 2.06-.94-2.06-.94-.94-2.06-.94 2.06-2.06.94zm-11 1L8.5 8.5l.94-2.06 2.06-.94-2.06-.94L8.5 2.5l-.94 2.06-2.06.94zm10 10l.94 2.06.94-2.06 2.06-.94-2.06-.94-.94-2.06-.94 2.06-2.06.94z\"/><path d=\"M17.41 7.96l-1.37-1.37c-.4-.4-.92-.59-1.43-.59-.52 0-1.04.2-1.43.59L10.3 9.45l-7.72 7.72c-.78.78-.78 2.05 0 2.83L4 21.41c.39.39.9.59 1.41.59.51 0 1.02-.2 1.41-.59l7.78-7.78 2.81-2.81c.8-.78.8-2.07 0-2.86zM5.41 20L4 18.59l7.72-7.72 1.47 1.35L5.41 20z\"/>\n",
              "  </svg>\n",
              "      </button>\n",
              "      \n",
              "  <style>\n",
              "    .colab-df-container {\n",
              "      display:flex;\n",
              "      flex-wrap:wrap;\n",
              "      gap: 12px;\n",
              "    }\n",
              "\n",
              "    .colab-df-convert {\n",
              "      background-color: #E8F0FE;\n",
              "      border: none;\n",
              "      border-radius: 50%;\n",
              "      cursor: pointer;\n",
              "      display: none;\n",
              "      fill: #1967D2;\n",
              "      height: 32px;\n",
              "      padding: 0 0 0 0;\n",
              "      width: 32px;\n",
              "    }\n",
              "\n",
              "    .colab-df-convert:hover {\n",
              "      background-color: #E2EBFA;\n",
              "      box-shadow: 0px 1px 2px rgba(60, 64, 67, 0.3), 0px 1px 3px 1px rgba(60, 64, 67, 0.15);\n",
              "      fill: #174EA6;\n",
              "    }\n",
              "\n",
              "    [theme=dark] .colab-df-convert {\n",
              "      background-color: #3B4455;\n",
              "      fill: #D2E3FC;\n",
              "    }\n",
              "\n",
              "    [theme=dark] .colab-df-convert:hover {\n",
              "      background-color: #434B5C;\n",
              "      box-shadow: 0px 1px 3px 1px rgba(0, 0, 0, 0.15);\n",
              "      filter: drop-shadow(0px 1px 2px rgba(0, 0, 0, 0.3));\n",
              "      fill: #FFFFFF;\n",
              "    }\n",
              "  </style>\n",
              "\n",
              "      <script>\n",
              "        const buttonEl =\n",
              "          document.querySelector('#df-a3c745c8-73d9-4c29-80ea-98c8ef7c9c58 button.colab-df-convert');\n",
              "        buttonEl.style.display =\n",
              "          google.colab.kernel.accessAllowed ? 'block' : 'none';\n",
              "\n",
              "        async function convertToInteractive(key) {\n",
              "          const element = document.querySelector('#df-a3c745c8-73d9-4c29-80ea-98c8ef7c9c58');\n",
              "          const dataTable =\n",
              "            await google.colab.kernel.invokeFunction('convertToInteractive',\n",
              "                                                     [key], {});\n",
              "          if (!dataTable) return;\n",
              "\n",
              "          const docLinkHtml = 'Like what you see? Visit the ' +\n",
              "            '<a target=\"_blank\" href=https://colab.research.google.com/notebooks/data_table.ipynb>data table notebook</a>'\n",
              "            + ' to learn more about interactive tables.';\n",
              "          element.innerHTML = '';\n",
              "          dataTable['output_type'] = 'display_data';\n",
              "          await google.colab.output.renderOutput(dataTable, element);\n",
              "          const docLink = document.createElement('div');\n",
              "          docLink.innerHTML = docLinkHtml;\n",
              "          element.appendChild(docLink);\n",
              "        }\n",
              "      </script>\n",
              "    </div>\n",
              "  </div>\n",
              "  "
            ],
            "text/plain": [
              "           textID                                               text  \\\n",
              "0      cb774db0d1                I`d have responded, if I were going   \n",
              "1      549e992a42      Sooo SAD I will miss you here in San Diego!!!   \n",
              "2      088c60f138                          my boss is bullying me...   \n",
              "3      9642c003ef                     what interview! leave me alone   \n",
              "4      358bd9e861   Sons of ****, why couldn`t they put them on t...   \n",
              "...           ...                                                ...   \n",
              "27476  4eac33d1c0   wish we could come see u on Denver  husband l...   \n",
              "27477  4f4c4fc327   I`ve wondered about rake to.  The client has ...   \n",
              "27478  f67aae2310   Yay good for both of you. Enjoy the break - y...   \n",
              "27479  ed167662a5                         But it was worth it  ****.   \n",
              "27480  6f7127d9d7     All this flirting going on - The ATG smiles...   \n",
              "\n",
              "                                           selected_text sentiment  \n",
              "0                    I`d have responded, if I were going   neutral  \n",
              "1                                               Sooo SAD  negative  \n",
              "2                                            bullying me  negative  \n",
              "3                                         leave me alone  negative  \n",
              "4                                          Sons of ****,  negative  \n",
              "...                                                  ...       ...  \n",
              "27476                                             d lost  negative  \n",
              "27477                                      , don`t force  negative  \n",
              "27478                          Yay good for both of you.  positive  \n",
              "27479                         But it was worth it  ****.  positive  \n",
              "27480  All this flirting going on - The ATG smiles. Y...   neutral  \n",
              "\n",
              "[27481 rows x 4 columns]"
            ]
          },
          "execution_count": 7,
          "metadata": {},
          "output_type": "execute_result"
        }
      ],
      "source": [
        "# load tweets_df and view\n",
        "# tweets_df = pd.read_csv(\"Resources/Tweets.csv\")\n",
        "\n",
        "\n",
        "\n",
        "from pyspark import SparkFiles\n",
        "# url =\"https://tweet-2022.s3.amazonaws.com/Tweets.csv\"\n",
        "# spark.sparkContext.addFile(url)\n",
        "# spark_tweets_df = spark.read.csv(SparkFiles.get(\"Tweets.csv\"), sep=\",\", header=True)\n",
        "# tweets_df = spark.read.csv(SparkFiles.get(\"Tweets.csv\"), sep=\",\", header=True)\n",
        "\n",
        "\n",
        "tweets_df = pd.read_csv(\"/content/Tweets.csv\")\n",
        "# tweets_df=spark_tweets_df.toPandas()\n",
        "tweets_df"
      ]
    },
    {
      "cell_type": "code",
      "execution_count": 8,
      "id": "c311757b",
      "metadata": {
        "id": "c311757b"
      },
      "outputs": [],
      "source": [
        "# get dataframe ready for processing\n",
        "\n",
        "# make sure the tweets in column \"text\" are strings\n",
        "tweets_df['text'] = tweets_df['text'].astype('str')\n",
        "\n",
        "# delete the unneccessary columns\n",
        "tweets_df = tweets_df.drop(columns=[\"textID\", \"selected_text\"])"
      ]
    },
    {
      "cell_type": "code",
      "execution_count": 9,
      "id": "47021da3",
      "metadata": {
        "id": "47021da3"
      },
      "outputs": [],
      "source": [
        "def process_tweets(tweet):\n",
        "    # make the text all lowercase\n",
        "    tweet = tweet.lower()\n",
        "    \n",
        "    # remove punctuation\n",
        "    tweet = \"\".join(char for char in tweet if char not in string.punctuation)\n",
        "    \n",
        "    # tokenize the tweet for url clean\n",
        "    tokenize_tweet_url = word_tokenize(tweet)\n",
        "    \n",
        "    # remove urls\n",
        "    tokenize_tweet_url = \" \".join([i for i in tokenize_tweet_url if 'http' not in i])\n",
        "    \n",
        "    # tokenize the tweet\n",
        "    tokenize_tweets = word_tokenize(tokenize_tweet_url)\n",
        "    \n",
        "    # remove stopwords\n",
        "    stopword = stopwords.words(\"english\")\n",
        "    tweet_wo_stop = [word for word in tokenize_tweets if word not in stopword]\n",
        "    \n",
        "    # lemmatization\n",
        "    lemm = WordNetLemmatizer()\n",
        "    lemmed = [lemm.lemmatize(word) for word in tweet_wo_stop]\n",
        "    \n",
        "    # put string together\n",
        "    final_tweet = \" \".join(lemmed)\n",
        "    \n",
        "    return final_tweet"
      ]
    },
    {
      "cell_type": "code",
      "execution_count": 10,
      "id": "8616da88",
      "metadata": {
        "colab": {
          "base_uri": "https://localhost:8080/",
          "height": 206
        },
        "id": "8616da88",
        "outputId": "bfc1cffa-91b3-4e43-bc24-ec53ab88eeaa"
      },
      "outputs": [
        {
          "data": {
            "text/html": [
              "\n",
              "  <div id=\"df-431a8d14-5570-42b9-9278-0b45964cdef6\">\n",
              "    <div class=\"colab-df-container\">\n",
              "      <div>\n",
              "<style scoped>\n",
              "    .dataframe tbody tr th:only-of-type {\n",
              "        vertical-align: middle;\n",
              "    }\n",
              "\n",
              "    .dataframe tbody tr th {\n",
              "        vertical-align: top;\n",
              "    }\n",
              "\n",
              "    .dataframe thead th {\n",
              "        text-align: right;\n",
              "    }\n",
              "</style>\n",
              "<table border=\"1\" class=\"dataframe\">\n",
              "  <thead>\n",
              "    <tr style=\"text-align: right;\">\n",
              "      <th></th>\n",
              "      <th>text</th>\n",
              "      <th>sentiment</th>\n",
              "    </tr>\n",
              "  </thead>\n",
              "  <tbody>\n",
              "    <tr>\n",
              "      <th>0</th>\n",
              "      <td>id responded going</td>\n",
              "      <td>neutral</td>\n",
              "    </tr>\n",
              "    <tr>\n",
              "      <th>1</th>\n",
              "      <td>sooo sad miss san diego</td>\n",
              "      <td>negative</td>\n",
              "    </tr>\n",
              "    <tr>\n",
              "      <th>2</th>\n",
              "      <td>bos bullying</td>\n",
              "      <td>negative</td>\n",
              "    </tr>\n",
              "    <tr>\n",
              "      <th>3</th>\n",
              "      <td>interview leave alone</td>\n",
              "      <td>negative</td>\n",
              "    </tr>\n",
              "    <tr>\n",
              "      <th>4</th>\n",
              "      <td>son couldnt put release already bought</td>\n",
              "      <td>negative</td>\n",
              "    </tr>\n",
              "  </tbody>\n",
              "</table>\n",
              "</div>\n",
              "      <button class=\"colab-df-convert\" onclick=\"convertToInteractive('df-431a8d14-5570-42b9-9278-0b45964cdef6')\"\n",
              "              title=\"Convert this dataframe to an interactive table.\"\n",
              "              style=\"display:none;\">\n",
              "        \n",
              "  <svg xmlns=\"http://www.w3.org/2000/svg\" height=\"24px\"viewBox=\"0 0 24 24\"\n",
              "       width=\"24px\">\n",
              "    <path d=\"M0 0h24v24H0V0z\" fill=\"none\"/>\n",
              "    <path d=\"M18.56 5.44l.94 2.06.94-2.06 2.06-.94-2.06-.94-.94-2.06-.94 2.06-2.06.94zm-11 1L8.5 8.5l.94-2.06 2.06-.94-2.06-.94L8.5 2.5l-.94 2.06-2.06.94zm10 10l.94 2.06.94-2.06 2.06-.94-2.06-.94-.94-2.06-.94 2.06-2.06.94z\"/><path d=\"M17.41 7.96l-1.37-1.37c-.4-.4-.92-.59-1.43-.59-.52 0-1.04.2-1.43.59L10.3 9.45l-7.72 7.72c-.78.78-.78 2.05 0 2.83L4 21.41c.39.39.9.59 1.41.59.51 0 1.02-.2 1.41-.59l7.78-7.78 2.81-2.81c.8-.78.8-2.07 0-2.86zM5.41 20L4 18.59l7.72-7.72 1.47 1.35L5.41 20z\"/>\n",
              "  </svg>\n",
              "      </button>\n",
              "      \n",
              "  <style>\n",
              "    .colab-df-container {\n",
              "      display:flex;\n",
              "      flex-wrap:wrap;\n",
              "      gap: 12px;\n",
              "    }\n",
              "\n",
              "    .colab-df-convert {\n",
              "      background-color: #E8F0FE;\n",
              "      border: none;\n",
              "      border-radius: 50%;\n",
              "      cursor: pointer;\n",
              "      display: none;\n",
              "      fill: #1967D2;\n",
              "      height: 32px;\n",
              "      padding: 0 0 0 0;\n",
              "      width: 32px;\n",
              "    }\n",
              "\n",
              "    .colab-df-convert:hover {\n",
              "      background-color: #E2EBFA;\n",
              "      box-shadow: 0px 1px 2px rgba(60, 64, 67, 0.3), 0px 1px 3px 1px rgba(60, 64, 67, 0.15);\n",
              "      fill: #174EA6;\n",
              "    }\n",
              "\n",
              "    [theme=dark] .colab-df-convert {\n",
              "      background-color: #3B4455;\n",
              "      fill: #D2E3FC;\n",
              "    }\n",
              "\n",
              "    [theme=dark] .colab-df-convert:hover {\n",
              "      background-color: #434B5C;\n",
              "      box-shadow: 0px 1px 3px 1px rgba(0, 0, 0, 0.15);\n",
              "      filter: drop-shadow(0px 1px 2px rgba(0, 0, 0, 0.3));\n",
              "      fill: #FFFFFF;\n",
              "    }\n",
              "  </style>\n",
              "\n",
              "      <script>\n",
              "        const buttonEl =\n",
              "          document.querySelector('#df-431a8d14-5570-42b9-9278-0b45964cdef6 button.colab-df-convert');\n",
              "        buttonEl.style.display =\n",
              "          google.colab.kernel.accessAllowed ? 'block' : 'none';\n",
              "\n",
              "        async function convertToInteractive(key) {\n",
              "          const element = document.querySelector('#df-431a8d14-5570-42b9-9278-0b45964cdef6');\n",
              "          const dataTable =\n",
              "            await google.colab.kernel.invokeFunction('convertToInteractive',\n",
              "                                                     [key], {});\n",
              "          if (!dataTable) return;\n",
              "\n",
              "          const docLinkHtml = 'Like what you see? Visit the ' +\n",
              "            '<a target=\"_blank\" href=https://colab.research.google.com/notebooks/data_table.ipynb>data table notebook</a>'\n",
              "            + ' to learn more about interactive tables.';\n",
              "          element.innerHTML = '';\n",
              "          dataTable['output_type'] = 'display_data';\n",
              "          await google.colab.output.renderOutput(dataTable, element);\n",
              "          const docLink = document.createElement('div');\n",
              "          docLink.innerHTML = docLinkHtml;\n",
              "          element.appendChild(docLink);\n",
              "        }\n",
              "      </script>\n",
              "    </div>\n",
              "  </div>\n",
              "  "
            ],
            "text/plain": [
              "                                     text sentiment\n",
              "0                      id responded going   neutral\n",
              "1                 sooo sad miss san diego  negative\n",
              "2                            bos bullying  negative\n",
              "3                   interview leave alone  negative\n",
              "4  son couldnt put release already bought  negative"
            ]
          },
          "execution_count": 10,
          "metadata": {},
          "output_type": "execute_result"
        }
      ],
      "source": [
        "# process tweets using above function\n",
        "tweets_df['text'] = tweets_df['text'].apply(lambda x: process_tweets(x))\n",
        "tweets_df = tweets_df.dropna()\n",
        "\n",
        "# view updated dataframe\n",
        "tweets_df.head()"
      ]
    },
    {
      "cell_type": "code",
      "execution_count": 11,
      "id": "f2da464f",
      "metadata": {
        "colab": {
          "base_uri": "https://localhost:8080/",
          "height": 265
        },
        "id": "f2da464f",
        "outputId": "57ec3d22-1c66-43e3-fb93-42123793f6fa"
      },
      "outputs": [
        {
          "data": {
            "text/plain": [
              "<matplotlib.axes._subplots.AxesSubplot at 0x7ff474c45c40>"
            ]
          },
          "execution_count": 11,
          "metadata": {},
          "output_type": "execute_result"
        },
        {
          "data": {
            "image/png": "[encoded data removed]",
            "text/plain": [
              "<Figure size 432x288 with 1 Axes>"
            ]
          },
          "metadata": {},
          "output_type": "display_data"
        }
      ],
      "source": [
        "# visualize distribution\n",
        "tweets_df.sentiment.value_counts().plot(kind='pie', autopct='%1.0f%%', colors=['blue', 'gold', 'red'])"
      ]
    },
    {
      "cell_type": "code",
      "execution_count": 12,
      "id": "aa959b52",
      "metadata": {
        "colab": {
          "base_uri": "https://localhost:8080/",
          "height": 206
        },
        "id": "aa959b52",
        "outputId": "1ef167b2-893a-43e3-935e-febff62e6c2a"
      },
      "outputs": [
        {
          "data": {
            "text/html": [
              "\n",
              "  <div id=\"df-495d4fe2-23f0-4fa8-868c-7c0afa171b64\">\n",
              "    <div class=\"colab-df-container\">\n",
              "      <div>\n",
              "<style scoped>\n",
              "    .dataframe tbody tr th:only-of-type {\n",
              "        vertical-align: middle;\n",
              "    }\n",
              "\n",
              "    .dataframe tbody tr th {\n",
              "        vertical-align: top;\n",
              "    }\n",
              "\n",
              "    .dataframe thead th {\n",
              "        text-align: right;\n",
              "    }\n",
              "</style>\n",
              "<table border=\"1\" class=\"dataframe\">\n",
              "  <thead>\n",
              "    <tr style=\"text-align: right;\">\n",
              "      <th></th>\n",
              "      <th>text</th>\n",
              "      <th>sentiment</th>\n",
              "    </tr>\n",
              "  </thead>\n",
              "  <tbody>\n",
              "    <tr>\n",
              "      <th>0</th>\n",
              "      <td>id responded going</td>\n",
              "      <td>0</td>\n",
              "    </tr>\n",
              "    <tr>\n",
              "      <th>1</th>\n",
              "      <td>sooo sad miss san diego</td>\n",
              "      <td>-1</td>\n",
              "    </tr>\n",
              "    <tr>\n",
              "      <th>2</th>\n",
              "      <td>bos bullying</td>\n",
              "      <td>-1</td>\n",
              "    </tr>\n",
              "    <tr>\n",
              "      <th>3</th>\n",
              "      <td>interview leave alone</td>\n",
              "      <td>-1</td>\n",
              "    </tr>\n",
              "    <tr>\n",
              "      <th>4</th>\n",
              "      <td>son couldnt put release already bought</td>\n",
              "      <td>-1</td>\n",
              "    </tr>\n",
              "  </tbody>\n",
              "</table>\n",
              "</div>\n",
              "      <button class=\"colab-df-convert\" onclick=\"convertToInteractive('df-495d4fe2-23f0-4fa8-868c-7c0afa171b64')\"\n",
              "              title=\"Convert this dataframe to an interactive table.\"\n",
              "              style=\"display:none;\">\n",
              "        \n",
              "  <svg xmlns=\"http://www.w3.org/2000/svg\" height=\"24px\"viewBox=\"0 0 24 24\"\n",
              "       width=\"24px\">\n",
              "    <path d=\"M0 0h24v24H0V0z\" fill=\"none\"/>\n",
              "    <path d=\"M18.56 5.44l.94 2.06.94-2.06 2.06-.94-2.06-.94-.94-2.06-.94 2.06-2.06.94zm-11 1L8.5 8.5l.94-2.06 2.06-.94-2.06-.94L8.5 2.5l-.94 2.06-2.06.94zm10 10l.94 2.06.94-2.06 2.06-.94-2.06-.94-.94-2.06-.94 2.06-2.06.94z\"/><path d=\"M17.41 7.96l-1.37-1.37c-.4-.4-.92-.59-1.43-.59-.52 0-1.04.2-1.43.59L10.3 9.45l-7.72 7.72c-.78.78-.78 2.05 0 2.83L4 21.41c.39.39.9.59 1.41.59.51 0 1.02-.2 1.41-.59l7.78-7.78 2.81-2.81c.8-.78.8-2.07 0-2.86zM5.41 20L4 18.59l7.72-7.72 1.47 1.35L5.41 20z\"/>\n",
              "  </svg>\n",
              "      </button>\n",
              "      \n",
              "  <style>\n",
              "    .colab-df-container {\n",
              "      display:flex;\n",
              "      flex-wrap:wrap;\n",
              "      gap: 12px;\n",
              "    }\n",
              "\n",
              "    .colab-df-convert {\n",
              "      background-color: #E8F0FE;\n",
              "      border: none;\n",
              "      border-radius: 50%;\n",
              "      cursor: pointer;\n",
              "      display: none;\n",
              "      fill: #1967D2;\n",
              "      height: 32px;\n",
              "      padding: 0 0 0 0;\n",
              "      width: 32px;\n",
              "    }\n",
              "\n",
              "    .colab-df-convert:hover {\n",
              "      background-color: #E2EBFA;\n",
              "      box-shadow: 0px 1px 2px rgba(60, 64, 67, 0.3), 0px 1px 3px 1px rgba(60, 64, 67, 0.15);\n",
              "      fill: #174EA6;\n",
              "    }\n",
              "\n",
              "    [theme=dark] .colab-df-convert {\n",
              "      background-color: #3B4455;\n",
              "      fill: #D2E3FC;\n",
              "    }\n",
              "\n",
              "    [theme=dark] .colab-df-convert:hover {\n",
              "      background-color: #434B5C;\n",
              "      box-shadow: 0px 1px 3px 1px rgba(0, 0, 0, 0.15);\n",
              "      filter: drop-shadow(0px 1px 2px rgba(0, 0, 0, 0.3));\n",
              "      fill: #FFFFFF;\n",
              "    }\n",
              "  </style>\n",
              "\n",
              "      <script>\n",
              "        const buttonEl =\n",
              "          document.querySelector('#df-495d4fe2-23f0-4fa8-868c-7c0afa171b64 button.colab-df-convert');\n",
              "        buttonEl.style.display =\n",
              "          google.colab.kernel.accessAllowed ? 'block' : 'none';\n",
              "\n",
              "        async function convertToInteractive(key) {\n",
              "          const element = document.querySelector('#df-495d4fe2-23f0-4fa8-868c-7c0afa171b64');\n",
              "          const dataTable =\n",
              "            await google.colab.kernel.invokeFunction('convertToInteractive',\n",
              "                                                     [key], {});\n",
              "          if (!dataTable) return;\n",
              "\n",
              "          const docLinkHtml = 'Like what you see? Visit the ' +\n",
              "            '<a target=\"_blank\" href=https://colab.research.google.com/notebooks/data_table.ipynb>data table notebook</a>'\n",
              "            + ' to learn more about interactive tables.';\n",
              "          element.innerHTML = '';\n",
              "          dataTable['output_type'] = 'display_data';\n",
              "          await google.colab.output.renderOutput(dataTable, element);\n",
              "          const docLink = document.createElement('div');\n",
              "          docLink.innerHTML = docLinkHtml;\n",
              "          element.appendChild(docLink);\n",
              "        }\n",
              "      </script>\n",
              "    </div>\n",
              "  </div>\n",
              "  "
            ],
            "text/plain": [
              "                                     text  sentiment\n",
              "0                      id responded going          0\n",
              "1                 sooo sad miss san diego         -1\n",
              "2                            bos bullying         -1\n",
              "3                   interview leave alone         -1\n",
              "4  son couldnt put release already bought         -1"
            ]
          },
          "execution_count": 12,
          "metadata": {},
          "output_type": "execute_result"
        }
      ],
      "source": [
        "# transform the sentiment column into numbers\n",
        "dict_sentiment = {'positive': 1, 'neutral': 0, 'negative': -1}\n",
        "tweets_df['sentiment'] = tweets_df['sentiment'].apply(lambda x: dict_sentiment.get(x))\n",
        "\n",
        "# view updated dataframe\n",
        "tweets_df.head()"
      ]
    },
    {
      "cell_type": "code",
      "execution_count": 13,
      "id": "c926d3e2",
      "metadata": {
        "id": "c926d3e2"
      },
      "outputs": [],
      "source": [
        "# create a separate data frame without neutral tweets\n",
        "tweets_no_neut = tweets_df[tweets_df[\"sentiment\"] != 0]"
      ]
    },
    {
      "cell_type": "code",
      "execution_count": 14,
      "id": "7f0280c2",
      "metadata": {
        "id": "7f0280c2"
      },
      "outputs": [],
      "source": [
        "# Create the X and y data \n",
        "def create_train_test_data (tweets_df, train_size):\n",
        "    \n",
        "    # assign X and y to the input and target columns\n",
        "    X = tweets_df['text']\n",
        "    y = tweets_df['sentiment']\n",
        "\n",
        "    # split the data into testing data and training data\n",
        "    if train_size == 0:\n",
        "        X_train, X_test, y_train, y_test = train_test_split(X, y)\n",
        "    else:\n",
        "        X_train, X_test, y_train, y_test = train_test_split(X, y, train_size=train_size)\n",
        "\n",
        "    # transform the data into tfidf vectors\n",
        "    # fit the tfidf vectorizer on the training data to avoid bias\n",
        "    vectorizer = TfidfVectorizer()\n",
        "    X_train_tfidf = vectorizer.fit_transform(X_train)\n",
        "    X_test_tfidf = vectorizer.transform(X_test)\n",
        "    \n",
        "    return X_train_tfidf, X_test_tfidf, y_train, y_test"
      ]
    },
    {
      "cell_type": "code",
      "execution_count": 15,
      "id": "91767a3f",
      "metadata": {
        "id": "91767a3f"
      },
      "outputs": [],
      "source": [
        "# create the model\n",
        "def create_model(tweets_df, attempt_num, model, train_size):\n",
        "    # Get the train and test data\n",
        "    \n",
        "    X_train_tfidf, X_test_tfidf, y_train, y_test = create_train_test_data (tweets_df, train_size)\n",
        "\n",
        "    # create a logistic regression model and fit it to the training data\n",
        "    \n",
        "    model.fit(X_train_tfidf, y_train)\n",
        "    evaluate(model, X_train_tfidf, y_train, X_test_tfidf, y_test, attempt_num)"
      ]
    },
    {
      "cell_type": "code",
      "execution_count": 16,
      "id": "0219b4d8",
      "metadata": {
        "id": "0219b4d8"
      },
      "outputs": [],
      "source": [
        "# evaluate the model\n",
        "def evaluate(model, X_train_tfidf, y_train, X_test_tfidf, y_test, attempt_num):\n",
        "    \n",
        "    # look at the scores for the testing and training data\n",
        "    print(f\"Attempt {attempt_num} ----------------------------------------\")\n",
        "    print(f\"Training Data Score: {model.score(X_train_tfidf, y_train)}\")\n",
        "    print(f\"Testing Data Score: {model.score(X_test_tfidf, y_test)} \\n\")\n",
        "\n",
        "    # find metrics for testing data\n",
        "    print(confusion_matrix(y_test.values, model.predict(X_test_tfidf)))\n",
        "    print(classification_report(y_test.values, model.predict(X_test_tfidf)))"
      ]
    },
    {
      "cell_type": "markdown",
      "id": "7252b265",
      "metadata": {
        "id": "7252b265"
      },
      "source": [
        "## Logistic Regression"
      ]
    },
    {
      "cell_type": "code",
      "execution_count": 17,
      "id": "c056cb6b",
      "metadata": {
        "colab": {
          "base_uri": "https://localhost:8080/"
        },
        "id": "c056cb6b",
        "outputId": "c93e9f3c-8dec-485d-ff33-d3a3f097ae56"
      },
      "outputs": [
        {
          "name": "stderr",
          "output_type": "stream",
          "text": [
            "/usr/local/lib/python3.8/dist-packages/sklearn/linear_model/_logistic.py:814: ConvergenceWarning: lbfgs failed to converge (status=1):\n",
            "STOP: TOTAL NO. of ITERATIONS REACHED LIMIT.\n",
            "\n",
            "Increase the number of iterations (max_iter) or scale the data as shown in:\n",
            "    https://scikit-learn.org/stable/modules/preprocessing.html\n",
            "Please also refer to the documentation for alternative solver options:\n",
            "    https://scikit-learn.org/stable/modules/linear_model.html#logistic-regression\n",
            "  n_iter_i = _check_optimize_result(\n"
          ]
        },
        {
          "name": "stdout",
          "output_type": "stream",
          "text": [
            "Attempt 1 ----------------------------------------\n",
            "Training Data Score: 0.8200873362445414\n",
            "Testing Data Score: 0.6962596419735119 \n",
            "\n",
            "[[1179  675  112]\n",
            " [ 328 2117  343]\n",
            " [  74  555 1488]]\n",
            "              precision    recall  f1-score   support\n",
            "\n",
            "          -1       0.75      0.60      0.66      1966\n",
            "           0       0.63      0.76      0.69      2788\n",
            "           1       0.77      0.70      0.73      2117\n",
            "\n",
            "    accuracy                           0.70      6871\n",
            "   macro avg       0.71      0.69      0.70      6871\n",
            "weighted avg       0.71      0.70      0.70      6871\n",
            "\n",
            "Attempt 2 ----------------------------------------\n",
            "Training Data Score: 0.929351368970013\n",
            "Testing Data Score: 0.8724028354925446 \n",
            "\n",
            "[[1674  247]\n",
            " [ 275 1895]]\n",
            "              precision    recall  f1-score   support\n",
            "\n",
            "          -1       0.86      0.87      0.87      1921\n",
            "           1       0.88      0.87      0.88      2170\n",
            "\n",
            "    accuracy                           0.87      4091\n",
            "   macro avg       0.87      0.87      0.87      4091\n",
            "weighted avg       0.87      0.87      0.87      4091\n",
            "\n"
          ]
        }
      ],
      "source": [
        "from sklearn.linear_model import LogisticRegression\n",
        "\n",
        "model = LogisticRegression()\n",
        "create_model(tweets_df, 1, model, 0)\n",
        "create_model(tweets_no_neut, 2, model, 0)"
      ]
    },
    {
      "cell_type": "markdown",
      "id": "b194d5d2",
      "metadata": {
        "id": "b194d5d2"
      },
      "source": [
        "## Random Forest Classifier"
      ]
    },
    {
      "cell_type": "code",
      "execution_count": 18,
      "id": "31875fa3",
      "metadata": {
        "colab": {
          "base_uri": "https://localhost:8080/"
        },
        "id": "31875fa3",
        "outputId": "d0bb9b80-6600-440b-8ad5-d403d1d33fc8"
      },
      "outputs": [
        {
          "name": "stdout",
          "output_type": "stream",
          "text": [
            "Attempt 1 ----------------------------------------\n",
            "Training Data Score: 0.9975891557496361\n",
            "Testing Data Score: 0.6941968346370748 \n",
            "\n",
            "[[ 902  500  114]\n",
            " [ 272 1669  332]\n",
            " [  69  394 1245]]\n",
            "              precision    recall  f1-score   support\n",
            "\n",
            "          -1       0.73      0.59      0.65      1516\n",
            "           0       0.65      0.73      0.69      2273\n",
            "           1       0.74      0.73      0.73      1708\n",
            "\n",
            "    accuracy                           0.69      5497\n",
            "   macro avg       0.70      0.69      0.69      5497\n",
            "weighted avg       0.70      0.69      0.69      5497\n",
            "\n",
            "Attempt 2 ----------------------------------------\n",
            "Training Data Score: 0.9995416348357525\n",
            "Testing Data Score: 0.8643446379468378 \n",
            "\n",
            "[[1375  221]\n",
            " [ 223 1454]]\n",
            "              precision    recall  f1-score   support\n",
            "\n",
            "          -1       0.86      0.86      0.86      1596\n",
            "           1       0.87      0.87      0.87      1677\n",
            "\n",
            "    accuracy                           0.86      3273\n",
            "   macro avg       0.86      0.86      0.86      3273\n",
            "weighted avg       0.86      0.86      0.86      3273\n",
            "\n"
          ]
        }
      ],
      "source": [
        "from sklearn.ensemble import RandomForestClassifier\n",
        "\n",
        "twitter_classi = RandomForestClassifier(n_estimators=300, random_state=0)\n",
        "create_model(tweets_df, 1, twitter_classi, train_size=.8)\n",
        "create_model(tweets_no_neut, 2, twitter_classi, train_size=.8)"
      ]
    },
    {
      "cell_type": "markdown",
      "id": "a107093b",
      "metadata": {
        "id": "a107093b"
      },
      "source": [
        "## Extra Trees Classifier"
      ]
    },
    {
      "cell_type": "code",
      "execution_count": 19,
      "id": "a1559f69",
      "metadata": {
        "colab": {
          "base_uri": "https://localhost:8080/"
        },
        "id": "a1559f69",
        "outputId": "015f9482-486d-4f76-98a9-a9da6d6baa6f"
      },
      "outputs": [
        {
          "name": "stdout",
          "output_type": "stream",
          "text": [
            "Attempt 1 ----------------------------------------\n",
            "Training Data Score: 0.9975891557496361\n",
            "Testing Data Score: 0.6994724395124613 \n",
            "\n",
            "[[ 936  475  117]\n",
            " [ 320 1565  330]\n",
            " [  63  347 1344]]\n",
            "              precision    recall  f1-score   support\n",
            "\n",
            "          -1       0.71      0.61      0.66      1528\n",
            "           0       0.66      0.71      0.68      2215\n",
            "           1       0.75      0.77      0.76      1754\n",
            "\n",
            "    accuracy                           0.70      5497\n",
            "   macro avg       0.71      0.70      0.70      5497\n",
            "weighted avg       0.70      0.70      0.70      5497\n",
            "\n",
            "Attempt 2 ----------------------------------------\n",
            "Training Data Score: 0.9995416348357525\n",
            "Testing Data Score: 0.8579285059578369 \n",
            "\n",
            "[[1346  204]\n",
            " [ 261 1462]]\n",
            "              precision    recall  f1-score   support\n",
            "\n",
            "          -1       0.84      0.87      0.85      1550\n",
            "           1       0.88      0.85      0.86      1723\n",
            "\n",
            "    accuracy                           0.86      3273\n",
            "   macro avg       0.86      0.86      0.86      3273\n",
            "weighted avg       0.86      0.86      0.86      3273\n",
            "\n"
          ]
        }
      ],
      "source": [
        "from sklearn.ensemble import ExtraTreesClassifier\n",
        "\n",
        "twitter_ex = ExtraTreesClassifier(random_state=1)\n",
        "create_model(tweets_df, 1, twitter_ex, train_size=.8)\n",
        "create_model(tweets_no_neut, 2, twitter_ex, train_size=.8)"
      ]
    },
    {
      "cell_type": "markdown",
      "id": "0002db64",
      "metadata": {
        "id": "0002db64"
      },
      "source": [
        "## Ada Boost Classifier"
      ]
    },
    {
      "cell_type": "code",
      "execution_count": 20,
      "id": "772d9f0b",
      "metadata": {
        "colab": {
          "base_uri": "https://localhost:8080/"
        },
        "id": "772d9f0b",
        "outputId": "daa43f4d-b2d0-4177-96e5-d829a7912feb"
      },
      "outputs": [
        {
          "name": "stdout",
          "output_type": "stream",
          "text": [
            "Attempt 1 ----------------------------------------\n",
            "Training Data Score: 0.6543850072780204\n",
            "Testing Data Score: 0.665999636165181 \n",
            "\n",
            "[[ 641  782  110]\n",
            " [ 185 1855  252]\n",
            " [  44  463 1165]]\n",
            "              precision    recall  f1-score   support\n",
            "\n",
            "          -1       0.74      0.42      0.53      1533\n",
            "           0       0.60      0.81      0.69      2292\n",
            "           1       0.76      0.70      0.73      1672\n",
            "\n",
            "    accuracy                           0.67      5497\n",
            "   macro avg       0.70      0.64      0.65      5497\n",
            "weighted avg       0.69      0.67      0.66      5497\n",
            "\n",
            "Attempt 2 ----------------------------------------\n",
            "Training Data Score: 0.8083269671504966\n",
            "Testing Data Score: 0.8041552092881149 \n",
            "\n",
            "[[1418  145]\n",
            " [ 496 1214]]\n",
            "              precision    recall  f1-score   support\n",
            "\n",
            "          -1       0.74      0.91      0.82      1563\n",
            "           1       0.89      0.71      0.79      1710\n",
            "\n",
            "    accuracy                           0.80      3273\n",
            "   macro avg       0.82      0.81      0.80      3273\n",
            "weighted avg       0.82      0.80      0.80      3273\n",
            "\n"
          ]
        }
      ],
      "source": [
        "from sklearn.ensemble import AdaBoostClassifier\n",
        "twitter_ada = AdaBoostClassifier(random_state=1)\n",
        "create_model(tweets_df, 1, twitter_ada, train_size=.8)\n",
        "create_model(tweets_no_neut, 2, twitter_ada, train_size=.8)"
      ]
    },
    {
      "cell_type": "markdown",
      "id": "a25a8104",
      "metadata": {
        "id": "a25a8104"
      },
      "source": [
        "# Naive Bayes"
      ]
    },
    {
      "cell_type": "code",
      "execution_count": 24,
      "id": "8dfd0224",
      "metadata": {
        "colab": {
          "base_uri": "https://localhost:8080/"
        },
        "id": "8dfd0224",
        "outputId": "55ad0d56-b8cb-4200-b9f7-253dd8b2d0f1"
      },
      "outputs": [
        {
          "name": "stdout",
          "output_type": "stream",
          "text": [
            "Attempt 1 ----------------------------------------\n",
            "Training Data Score: 0.7995360262008734\n",
            "Testing Data Score: 0.6243405493905767 \n",
            "\n",
            "[[ 636  839   70]\n",
            " [ 159 1853  270]\n",
            " [  18  709  943]]\n",
            "              precision    recall  f1-score   support\n",
            "\n",
            "          -1       0.78      0.41      0.54      1545\n",
            "           0       0.54      0.81      0.65      2282\n",
            "           1       0.73      0.56      0.64      1670\n",
            "\n",
            "    accuracy                           0.62      5497\n",
            "   macro avg       0.69      0.60      0.61      5497\n",
            "weighted avg       0.67      0.62      0.62      5497\n",
            "\n",
            "Attempt 2 ----------------------------------------\n",
            "Training Data Score: 0.9420932009167303\n",
            "Testing Data Score: 0.846012832263978 \n",
            "\n",
            "[[1273  305]\n",
            " [ 199 1496]]\n",
            "              precision    recall  f1-score   support\n",
            "\n",
            "          -1       0.86      0.81      0.83      1578\n",
            "           1       0.83      0.88      0.86      1695\n",
            "\n",
            "    accuracy                           0.85      3273\n",
            "   macro avg       0.85      0.84      0.85      3273\n",
            "weighted avg       0.85      0.85      0.85      3273\n",
            "\n"
          ]
        }
      ],
      "source": [
        "from sklearn.naive_bayes import MultinomialNB\n",
        "mnb = MultinomialNB()\n",
        "create_model(tweets_df,1,mnb,train_size=0.8)\n",
        "create_model(tweets_no_neut,2,mnb,train_size=0.8)"
      ]
    },
    {
      "cell_type": "markdown",
      "id": "1eg0eqPOllG0",
      "metadata": {
        "id": "1eg0eqPOllG0"
      },
      "source": [
        "# Naive Bayes using PySpark"
      ]
    },
    {
      "cell_type": "code",
      "execution_count": 97,
      "id": "Sh4IFN6tL7DS",
      "metadata": {
        "colab": {
          "base_uri": "https://localhost:8080/",
          "height": 424
        },
        "id": "Sh4IFN6tL7DS",
        "outputId": "ba25344f-902e-48d2-983a-523c7f802df2"
      },
      "outputs": [
        {
          "data": {
            "text/html": [
              "\n",
              "  <div id=\"df-ec28b3bb-bfce-40ae-bf72-10fe72beada4\">\n",
              "    <div class=\"colab-df-container\">\n",
              "      <div>\n",
              "<style scoped>\n",
              "    .dataframe tbody tr th:only-of-type {\n",
              "        vertical-align: middle;\n",
              "    }\n",
              "\n",
              "    .dataframe tbody tr th {\n",
              "        vertical-align: top;\n",
              "    }\n",
              "\n",
              "    .dataframe thead th {\n",
              "        text-align: right;\n",
              "    }\n",
              "</style>\n",
              "<table border=\"1\" class=\"dataframe\">\n",
              "  <thead>\n",
              "    <tr style=\"text-align: right;\">\n",
              "      <th></th>\n",
              "      <th>textID</th>\n",
              "      <th>text</th>\n",
              "      <th>selected_text</th>\n",
              "      <th>sentiment</th>\n",
              "    </tr>\n",
              "  </thead>\n",
              "  <tbody>\n",
              "    <tr>\n",
              "      <th>0</th>\n",
              "      <td>cb774db0d1</td>\n",
              "      <td>I`d have responded, if I were going</td>\n",
              "      <td>I`d have responded, if I were going</td>\n",
              "      <td>neutral</td>\n",
              "    </tr>\n",
              "    <tr>\n",
              "      <th>1</th>\n",
              "      <td>549e992a42</td>\n",
              "      <td>Sooo SAD I will miss you here in San Diego!!!</td>\n",
              "      <td>Sooo SAD</td>\n",
              "      <td>negative</td>\n",
              "    </tr>\n",
              "    <tr>\n",
              "      <th>2</th>\n",
              "      <td>088c60f138</td>\n",
              "      <td>my boss is bullying me...</td>\n",
              "      <td>bullying me</td>\n",
              "      <td>negative</td>\n",
              "    </tr>\n",
              "    <tr>\n",
              "      <th>3</th>\n",
              "      <td>9642c003ef</td>\n",
              "      <td>what interview! leave me alone</td>\n",
              "      <td>leave me alone</td>\n",
              "      <td>negative</td>\n",
              "    </tr>\n",
              "    <tr>\n",
              "      <th>4</th>\n",
              "      <td>358bd9e861</td>\n",
              "      <td>Sons of ****, why couldn`t they put them on t...</td>\n",
              "      <td>Sons of ****,</td>\n",
              "      <td>negative</td>\n",
              "    </tr>\n",
              "    <tr>\n",
              "      <th>...</th>\n",
              "      <td>...</td>\n",
              "      <td>...</td>\n",
              "      <td>...</td>\n",
              "      <td>...</td>\n",
              "    </tr>\n",
              "    <tr>\n",
              "      <th>27476</th>\n",
              "      <td>4eac33d1c0</td>\n",
              "      <td>wish we could come see u on Denver  husband l...</td>\n",
              "      <td>d lost</td>\n",
              "      <td>negative</td>\n",
              "    </tr>\n",
              "    <tr>\n",
              "      <th>27477</th>\n",
              "      <td>4f4c4fc327</td>\n",
              "      <td>I`ve wondered about rake to.  The client has ...</td>\n",
              "      <td>, don`t force</td>\n",
              "      <td>negative</td>\n",
              "    </tr>\n",
              "    <tr>\n",
              "      <th>27478</th>\n",
              "      <td>f67aae2310</td>\n",
              "      <td>Yay good for both of you. Enjoy the break - y...</td>\n",
              "      <td>Yay good for both of you.</td>\n",
              "      <td>positive</td>\n",
              "    </tr>\n",
              "    <tr>\n",
              "      <th>27479</th>\n",
              "      <td>ed167662a5</td>\n",
              "      <td>But it was worth it  ****.</td>\n",
              "      <td>But it was worth it  ****.</td>\n",
              "      <td>positive</td>\n",
              "    </tr>\n",
              "    <tr>\n",
              "      <th>27480</th>\n",
              "      <td>6f7127d9d7</td>\n",
              "      <td>All this flirting going on - The ATG smiles...</td>\n",
              "      <td>All this flirting going on - The ATG smiles. Y...</td>\n",
              "      <td>neutral</td>\n",
              "    </tr>\n",
              "  </tbody>\n",
              "</table>\n",
              "<p>27481 rows × 4 columns</p>\n",
              "</div>\n",
              "      <button class=\"colab-df-convert\" onclick=\"convertToInteractive('df-ec28b3bb-bfce-40ae-bf72-10fe72beada4')\"\n",
              "              title=\"Convert this dataframe to an interactive table.\"\n",
              "              style=\"display:none;\">\n",
              "        \n",
              "  <svg xmlns=\"http://www.w3.org/2000/svg\" height=\"24px\"viewBox=\"0 0 24 24\"\n",
              "       width=\"24px\">\n",
              "    <path d=\"M0 0h24v24H0V0z\" fill=\"none\"/>\n",
              "    <path d=\"M18.56 5.44l.94 2.06.94-2.06 2.06-.94-2.06-.94-.94-2.06-.94 2.06-2.06.94zm-11 1L8.5 8.5l.94-2.06 2.06-.94-2.06-.94L8.5 2.5l-.94 2.06-2.06.94zm10 10l.94 2.06.94-2.06 2.06-.94-2.06-.94-.94-2.06-.94 2.06-2.06.94z\"/><path d=\"M17.41 7.96l-1.37-1.37c-.4-.4-.92-.59-1.43-.59-.52 0-1.04.2-1.43.59L10.3 9.45l-7.72 7.72c-.78.78-.78 2.05 0 2.83L4 21.41c.39.39.9.59 1.41.59.51 0 1.02-.2 1.41-.59l7.78-7.78 2.81-2.81c.8-.78.8-2.07 0-2.86zM5.41 20L4 18.59l7.72-7.72 1.47 1.35L5.41 20z\"/>\n",
              "  </svg>\n",
              "      </button>\n",
              "      \n",
              "  <style>\n",
              "    .colab-df-container {\n",
              "      display:flex;\n",
              "      flex-wrap:wrap;\n",
              "      gap: 12px;\n",
              "    }\n",
              "\n",
              "    .colab-df-convert {\n",
              "      background-color: #E8F0FE;\n",
              "      border: none;\n",
              "      border-radius: 50%;\n",
              "      cursor: pointer;\n",
              "      display: none;\n",
              "      fill: #1967D2;\n",
              "      height: 32px;\n",
              "      padding: 0 0 0 0;\n",
              "      width: 32px;\n",
              "    }\n",
              "\n",
              "    .colab-df-convert:hover {\n",
              "      background-color: #E2EBFA;\n",
              "      box-shadow: 0px 1px 2px rgba(60, 64, 67, 0.3), 0px 1px 3px 1px rgba(60, 64, 67, 0.15);\n",
              "      fill: #174EA6;\n",
              "    }\n",
              "\n",
              "    [theme=dark] .colab-df-convert {\n",
              "      background-color: #3B4455;\n",
              "      fill: #D2E3FC;\n",
              "    }\n",
              "\n",
              "    [theme=dark] .colab-df-convert:hover {\n",
              "      background-color: #434B5C;\n",
              "      box-shadow: 0px 1px 3px 1px rgba(0, 0, 0, 0.15);\n",
              "      filter: drop-shadow(0px 1px 2px rgba(0, 0, 0, 0.3));\n",
              "      fill: #FFFFFF;\n",
              "    }\n",
              "  </style>\n",
              "\n",
              "      <script>\n",
              "        const buttonEl =\n",
              "          document.querySelector('#df-ec28b3bb-bfce-40ae-bf72-10fe72beada4 button.colab-df-convert');\n",
              "        buttonEl.style.display =\n",
              "          google.colab.kernel.accessAllowed ? 'block' : 'none';\n",
              "\n",
              "        async function convertToInteractive(key) {\n",
              "          const element = document.querySelector('#df-ec28b3bb-bfce-40ae-bf72-10fe72beada4');\n",
              "          const dataTable =\n",
              "            await google.colab.kernel.invokeFunction('convertToInteractive',\n",
              "                                                     [key], {});\n",
              "          if (!dataTable) return;\n",
              "\n",
              "          const docLinkHtml = 'Like what you see? Visit the ' +\n",
              "            '<a target=\"_blank\" href=https://colab.research.google.com/notebooks/data_table.ipynb>data table notebook</a>'\n",
              "            + ' to learn more about interactive tables.';\n",
              "          element.innerHTML = '';\n",
              "          dataTable['output_type'] = 'display_data';\n",
              "          await google.colab.output.renderOutput(dataTable, element);\n",
              "          const docLink = document.createElement('div');\n",
              "          docLink.innerHTML = docLinkHtml;\n",
              "          element.appendChild(docLink);\n",
              "        }\n",
              "      </script>\n",
              "    </div>\n",
              "  </div>\n",
              "  "
            ],
            "text/plain": [
              "           textID                                               text  \\\n",
              "0      cb774db0d1                I`d have responded, if I were going   \n",
              "1      549e992a42      Sooo SAD I will miss you here in San Diego!!!   \n",
              "2      088c60f138                          my boss is bullying me...   \n",
              "3      9642c003ef                     what interview! leave me alone   \n",
              "4      358bd9e861   Sons of ****, why couldn`t they put them on t...   \n",
              "...           ...                                                ...   \n",
              "27476  4eac33d1c0   wish we could come see u on Denver  husband l...   \n",
              "27477  4f4c4fc327   I`ve wondered about rake to.  The client has ...   \n",
              "27478  f67aae2310   Yay good for both of you. Enjoy the break - y...   \n",
              "27479  ed167662a5                         But it was worth it  ****.   \n",
              "27480  6f7127d9d7     All this flirting going on - The ATG smiles...   \n",
              "\n",
              "                                           selected_text sentiment  \n",
              "0                    I`d have responded, if I were going   neutral  \n",
              "1                                               Sooo SAD  negative  \n",
              "2                                            bullying me  negative  \n",
              "3                                         leave me alone  negative  \n",
              "4                                          Sons of ****,  negative  \n",
              "...                                                  ...       ...  \n",
              "27476                                             d lost  negative  \n",
              "27477                                      , don`t force  negative  \n",
              "27478                          Yay good for both of you.  positive  \n",
              "27479                         But it was worth it  ****.  positive  \n",
              "27480  All this flirting going on - The ATG smiles. Y...   neutral  \n",
              "\n",
              "[27481 rows x 4 columns]"
            ]
          },
          "execution_count": 97,
          "metadata": {},
          "output_type": "execute_result"
        }
      ],
      "source": [
        "from pyspark.sql import SparkSession\n",
        "spark = SparkSession.builder.appName(\"NaiveBayes\").getOrCreate()\n",
        "# url =\"https://tweet-2022.s3.amazonaws.com/Tweets.csv\"\n",
        "# spark.sparkContext.addFile(url)\n",
        "# spark_tweets_df = spark.read.csv(SparkFiles.get(\"Tweets.csv\"), sep=\",\", header=True)\n",
        "# tweets_df = spark.read.csv(SparkFiles.get(\"Tweets.csv\"), sep=\",\", header=True)\n",
        "\n",
        "\n",
        "nb_tweets_df = pd.read_csv(\"/content/Tweets.csv\")\n",
        "# tweets_df=spark_tweets_df.toPandas()\n",
        "nb_tweets_df"
      ]
    },
    {
      "cell_type": "code",
      "execution_count": 98,
      "id": "l3Gb21sVSjCs",
      "metadata": {
        "id": "l3Gb21sVSjCs"
      },
      "outputs": [],
      "source": [
        "def nb_process_tweets(tweet):\n",
        "    # make the text all lowercase\n",
        "    tweet = tweet.lower()\n",
        "    \n",
        "    # remove punctuation\n",
        "    tweet = \"\".join(char for char in tweet if char not in string.punctuation)\n",
        "  \n",
        "    # remove urls\n",
        "    tweet_wo_stop = \"\".join([i for i in tweet if 'http' not in i])\n",
        "    \n",
        "    \n",
        "    # lemmatization\n",
        "    lemm = WordNetLemmatizer()\n",
        "    lemmed = [lemm.lemmatize(word) for word in tweet_wo_stop]\n",
        "    \n",
        "    # put string together\n",
        "    final_tweet = \"\".join(lemmed)\n",
        "    \n",
        "    return final_tweet\n",
        "nb_tweets_df['text'] = nb_tweets_df['text'].astype('str')\n",
        "\n",
        "# delete the unneccessary columns\n",
        "nb_tweets_df = nb_tweets_df.drop(columns=[\"textID\", \"selected_text\"])\n",
        "nb_tweets_df=nb_tweets_df.rename(columns={'sentiment':'class'})\n",
        "nb_tweets_df=nb_tweets_df[['class','text']]\n",
        "nb_tweets_df['text'] = nb_tweets_df['text'].apply(lambda x: nb_process_tweets(x))\n",
        "\n",
        "\n",
        "nb_opt=nb_tweets_df.loc[nb_tweets_df['class']!=\"neutral\"]"
      ]
    },
    {
      "cell_type": "code",
      "execution_count": 53,
      "id": "68yRlnxfVV14",
      "metadata": {
        "colab": {
          "base_uri": "https://localhost:8080/"
        },
        "id": "68yRlnxfVV14",
        "outputId": "c85c5f8b-1b39-4760-a9a8-6a909b808044"
      },
      "outputs": [
        {
          "name": "stdout",
          "output_type": "stream",
          "text": [
            "Looking in indexes: https://pypi.org/simple, https://us-python.pkg.dev/colab-wheels/public/simple/\n",
            "Collecting quinn\n",
            "  Downloading quinn-0.9.0-py2.py3-none-any.whl (9.3 kB)\n",
            "Installing collected packages: quinn\n",
            "Successfully installed quinn-0.9.0\n"
          ]
        }
      ],
      "source": [
        "pip install quinn"
      ]
    },
    {
      "cell_type": "code",
      "execution_count": 103,
      "id": "2mJ0-r_6fr2w",
      "metadata": {
        "id": "2mJ0-r_6fr2w"
      },
      "outputs": [],
      "source": [
        "def create_nb(tweets_df,attempt_num,model,train_size):\n",
        "  from pyspark.ml.feature import Tokenizer, StopWordsRemover, HashingTF, IDF, StringIndexer\n",
        "# Create all the features to the data set\n",
        "  pos_neg_to_num = StringIndexer(inputCol='class',outputCol='label')\n",
        "  tokenizer = Tokenizer(inputCol=\"text\", outputCol=\"token_text\")\n",
        "  stopremove = StopWordsRemover(inputCol='token_text',outputCol='stop_tokens')\n",
        "  hashingTF = HashingTF(inputCol=\"stop_tokens\", outputCol='hash_token')\n",
        "  idf = IDF(inputCol='hash_token', outputCol='idf_token')\n",
        "  from pyspark.ml.feature import VectorAssembler\n",
        "  from pyspark.ml.linalg import Vector\n",
        "\n",
        "  # Create feature vectors\n",
        "  clean_up = VectorAssembler(inputCols=['idf_token', 'length'], outputCol='features')\n",
        "  from pyspark.ml import Pipeline\n",
        "  data_prep_pipeline = Pipeline(stages=[pos_neg_to_num, tokenizer, stopremove, hashingTF, idf, clean_up])\n",
        "  from pyspark.sql import SQLContext\n",
        "  sc = SparkSession.builder.getOrCreate()\n",
        "  sqlContext = SQLContext(sc)\n",
        "  spark_tweets = sqlContext.createDataFrame(tweets_df)\n",
        "\n",
        "\n",
        "\n",
        "  import quinn\n",
        "  trimmed=spark_tweets.withColumn('description',quinn.single_space(spark_tweets['text']))\n",
        "  trimmed=trimmed.select('class','description')\n",
        "  trimmed=trimmed.withColumnRenamed('description','text')\n",
        "  trimmed=trimmed.toPandas()\n",
        "  trimmed['length']=\"\"\n",
        "  for index,row in trimmed.iterrows():\n",
        "    nb_tweet_length=len(row['text'])\n",
        "    trimmed.loc[index,'length']=nb_tweet_length\n",
        "  trimmed_spark=sqlContext.createDataFrame(trimmed)\n",
        "  cleaner = data_prep_pipeline.fit(trimmed_spark)\n",
        "  cleaned = cleaner.transform(trimmed_spark)\n",
        "\n",
        "  # cleaner = data_prep_pipeline.fit(spark_tweets)\n",
        "  # cleaned = cleaner.transform(spark_tweets)\n",
        "  from pyspark.ml.classification import NaiveBayes\n",
        "  # Break data down into a training set and a testing set\n",
        "  # training, testing = cleaned.randomSplit([0.7, 0.3])\n",
        "  training, testing = cleaned.randomSplit([train_size, 1-train_size])\n",
        "  predictor = nb.fit(training)\n",
        "  from pyspark.ml.evaluation import MulticlassClassificationEvaluator\n",
        "  test_results = predictor.transform(testing)\n",
        "  acc_eval = MulticlassClassificationEvaluator(labelCol=\"label\")\n",
        "  acc = acc_eval.evaluate(test_results)\n",
        "  print(\"Accuracy of model at predicting sentiments was: %f\" % acc)"
      ]
    },
    {
      "cell_type": "code",
      "execution_count": 104,
      "id": "k51XMckkgXQt",
      "metadata": {
        "colab": {
          "base_uri": "https://localhost:8080/"
        },
        "id": "k51XMckkgXQt",
        "outputId": "2bcc22a8-9bb3-44f6-a9ab-7af07a6c9242"
      },
      "outputs": [
        {
          "name": "stderr",
          "output_type": "stream",
          "text": [
            "/content/spark-3.2.3-bin-hadoop2.7/python/pyspark/sql/context.py:77: FutureWarning: Deprecated in 3.0.0. Use SparkSession.builder.getOrCreate() instead.\n",
            "  warnings.warn(\n"
          ]
        },
        {
          "name": "stdout",
          "output_type": "stream",
          "text": [
            "Accuracy of model at predicting sentiments was: 0.571079\n",
            "Accuracy of model at predicting sentiments was: 0.810729\n"
          ]
        }
      ],
      "source": [
        "nb = NaiveBayes(labelCol=\"label\", featuresCol=\"features\", modelType=\"multinomial\")\n",
        "create_nb(nb_tweets_df,1,nb,.8)\n",
        "create_nb(nb_opt,2,nb,.8)\n"
      ]
    },
    {
      "cell_type": "code",
      "execution_count": null,
      "id": "15LI1tWalBfk",
      "metadata": {
        "id": "15LI1tWalBfk"
      },
      "outputs": [],
      "source": []
    }
  ],
  "metadata": {
    "colab": {
      "provenance": []
    },
    "kernelspec": {
      "display_name": "Python 3 (ipykernel)",
      "language": "python",
      "name": "python3"
    },
    "language_info": {
      "codemirror_mode": {
        "name": "ipython",
        "version": 3
      },
      "file_extension": ".py",
      "mimetype": "text/x-python",
      "name": "python",
      "nbconvert_exporter": "python",
      "pygments_lexer": "ipython3",
      "version": "3.9.12"
    }
  },
  "nbformat": 4,
  "nbformat_minor": 5
}

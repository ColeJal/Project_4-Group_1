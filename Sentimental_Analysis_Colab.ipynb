{
  "cells": [
    {
      "cell_type": "markdown",
      "id": "z-F_j5xGJ_BJ",
      "metadata": {
        "id": "z-F_j5xGJ_BJ"
      },
      "source": [
        "# Sentiment Analysis of Tweets Dataset using the following Machine Learning models\n",
        "- Logistic Regression\n",
        "- Random Forest Classifier\n",
        "- Extra Trees Classifier\n",
        "- Ada Boost Classifier\n",
        "- Naive Bayes"
      ]
    },
    {
      "cell_type": "code",
      "execution_count": 6,
      "id": "8f965746",
      "metadata": {
        "id": "8f965746"
      },
      "outputs": [],
      "source": [
        "# import required libraries\n",
        "import nltk\n",
        "from nltk import word_tokenize\n",
        "from nltk.corpus import stopwords\n",
        "\n",
        "from sklearn.feature_extraction.text import TfidfVectorizer\n",
        "from sklearn.model_selection import train_test_split\n",
        "from sklearn.metrics import classification_report, confusion_matrix\n",
        "from nltk.stem import WordNetLemmatizer\n",
        "import matplotlib.pyplot as plt\n",
        "%matplotlib inline\n",
        "\n",
        "import pandas as pd\n",
        "import string"
      ]
    },
    {
      "cell_type": "code",
      "execution_count": 7,
      "id": "98da782e",
      "metadata": {
        "colab": {
          "base_uri": "https://localhost:8080/"
        },
        "id": "98da782e",
        "outputId": "cc111f5b-b367-4ff1-bcf6-3aefa5dccbef"
      },
      "outputs": [
        {
          "name": "stderr",
          "output_type": "stream",
          "text": [
            "[nltk_data] Downloading package punkt to /root/nltk_data...\n",
            "[nltk_data]   Package punkt is already up-to-date!\n",
            "[nltk_data] Downloading package stopwords to /root/nltk_data...\n",
            "[nltk_data]   Package stopwords is already up-to-date!\n",
            "[nltk_data] Downloading package wordnet to /root/nltk_data...\n",
            "[nltk_data]   Package wordnet is already up-to-date!\n",
            "[nltk_data] Downloading package omw-1.4 to /root/nltk_data...\n",
            "[nltk_data]   Package omw-1.4 is already up-to-date!\n"
          ]
        },
        {
          "data": {
            "text/plain": [
              "True"
            ]
          },
          "execution_count": 7,
          "metadata": {},
          "output_type": "execute_result"
        }
      ],
      "source": [
        "# download punctuation and stopwords from nltk\n",
        "nltk.download('punkt')\n",
        "nltk.download(\"stopwords\")\n",
        "nltk.download('wordnet')\n",
        "nltk.download('omw-1.4')"
      ]
    },
    {
      "cell_type": "code",
      "execution_count": 8,
      "id": "wJuTq-P9LO38",
      "metadata": {
        "colab": {
          "base_uri": "https://localhost:8080/"
        },
        "id": "wJuTq-P9LO38",
        "outputId": "f7788c22-895a-4888-80b8-769bc0a95b35"
      },
      "outputs": [
        {
          "name": "stdout",
          "output_type": "stream",
          "text": [
            "Hit:1 https://cloud.r-project.org/bin/linux/ubuntu bionic-cran40/ InRelease\n",
            "Ign:2 https://developer.download.nvidia.com/compute/machine-learning/repos/ubuntu1804/x86_64  InRelease\n",
            "Hit:3 https://developer.download.nvidia.com/compute/cuda/repos/ubuntu1804/x86_64  InRelease\n",
            "Hit:4 https://developer.download.nvidia.com/compute/machine-learning/repos/ubuntu1804/x86_64  Release\n",
            "Hit:5 http://security.ubuntu.com/ubuntu bionic-security InRelease\n",
            "Hit:6 http://ppa.launchpad.net/c2d4u.team/c2d4u4.0+/ubuntu bionic InRelease\n",
            "Hit:7 http://archive.ubuntu.com/ubuntu bionic InRelease\n",
            "Hit:8 http://archive.ubuntu.com/ubuntu bionic-updates InRelease\n",
            "Hit:9 http://ppa.launchpad.net/cran/libgit2/ubuntu bionic InRelease\n",
            "Hit:10 http://archive.ubuntu.com/ubuntu bionic-backports InRelease\n",
            "Hit:11 http://ppa.launchpad.net/deadsnakes/ppa/ubuntu bionic InRelease\n",
            "Hit:13 http://ppa.launchpad.net/graphics-drivers/ppa/ubuntu bionic InRelease\n",
            "Reading package lists... Done\n"
          ]
        }
      ],
      "source": [
        "import os\n",
        "# Find the latest version of spark 3.2  from http://www.apache.org/dist/spark/ and enter as the spark version\n",
        "# For example:\n",
        "spark_version = 'spark-3.2.3'\n",
        "# spark_version = 'spark-3.<enter version>'\n",
        "os.environ['SPARK_VERSION']=spark_version\n",
        "\n",
        "# Install Spark and Java\n",
        "!apt-get update\n",
        "!apt-get install openjdk-8-jdk-headless -qq > /dev/null\n",
        "!wget -q http://www.apache.org/dist/spark/$SPARK_VERSION/$SPARK_VERSION-bin-hadoop2.7.tgz\n",
        "!tar xf $SPARK_VERSION-bin-hadoop2.7.tgz\n",
        "!pip install -q findspark\n",
        "\n",
        "# Set Environment Variables\n",
        "os.environ[\"JAVA_HOME\"] = \"/usr/lib/jvm/java-8-openjdk-amd64\"\n",
        "os.environ[\"SPARK_HOME\"] = f\"/content/{spark_version}-bin-hadoop2.7\"\n",
        "\n",
        "# Start a SparkSession\n",
        "import findspark\n",
        "findspark.init()"
      ]
    },
    {
      "cell_type": "markdown",
      "id": "4c986391",
      "metadata": {
        "id": "4c986391"
      },
      "source": [
        "# Transform the data"
      ]
    },
    {
      "cell_type": "code",
      "execution_count": 9,
      "id": "c503a564",
      "metadata": {
        "colab": {
          "base_uri": "https://localhost:8080/",
          "height": 424
        },
        "id": "c503a564",
        "outputId": "b9fdc5e2-6b99-45b5-897e-fc32140a143d"
      },
      "outputs": [
        {
          "data": {
            "text/html": [
              "\n",
              "  <div id=\"df-d005184d-595d-499c-854b-43e64ceb6ebb\">\n",
              "    <div class=\"colab-df-container\">\n",
              "      <div>\n",
              "<style scoped>\n",
              "    .dataframe tbody tr th:only-of-type {\n",
              "        vertical-align: middle;\n",
              "    }\n",
              "\n",
              "    .dataframe tbody tr th {\n",
              "        vertical-align: top;\n",
              "    }\n",
              "\n",
              "    .dataframe thead th {\n",
              "        text-align: right;\n",
              "    }\n",
              "</style>\n",
              "<table border=\"1\" class=\"dataframe\">\n",
              "  <thead>\n",
              "    <tr style=\"text-align: right;\">\n",
              "      <th></th>\n",
              "      <th>textID</th>\n",
              "      <th>text</th>\n",
              "      <th>selected_text</th>\n",
              "      <th>sentiment</th>\n",
              "    </tr>\n",
              "  </thead>\n",
              "  <tbody>\n",
              "    <tr>\n",
              "      <th>0</th>\n",
              "      <td>cb774db0d1</td>\n",
              "      <td>I`d have responded, if I were going</td>\n",
              "      <td>I`d have responded, if I were going</td>\n",
              "      <td>neutral</td>\n",
              "    </tr>\n",
              "    <tr>\n",
              "      <th>1</th>\n",
              "      <td>549e992a42</td>\n",
              "      <td>Sooo SAD I will miss you here in San Diego!!!</td>\n",
              "      <td>Sooo SAD</td>\n",
              "      <td>negative</td>\n",
              "    </tr>\n",
              "    <tr>\n",
              "      <th>2</th>\n",
              "      <td>088c60f138</td>\n",
              "      <td>my boss is bullying me...</td>\n",
              "      <td>bullying me</td>\n",
              "      <td>negative</td>\n",
              "    </tr>\n",
              "    <tr>\n",
              "      <th>3</th>\n",
              "      <td>9642c003ef</td>\n",
              "      <td>what interview! leave me alone</td>\n",
              "      <td>leave me alone</td>\n",
              "      <td>negative</td>\n",
              "    </tr>\n",
              "    <tr>\n",
              "      <th>4</th>\n",
              "      <td>358bd9e861</td>\n",
              "      <td>Sons of ****, why couldn`t they put them on t...</td>\n",
              "      <td>Sons of ****,</td>\n",
              "      <td>negative</td>\n",
              "    </tr>\n",
              "    <tr>\n",
              "      <th>...</th>\n",
              "      <td>...</td>\n",
              "      <td>...</td>\n",
              "      <td>...</td>\n",
              "      <td>...</td>\n",
              "    </tr>\n",
              "    <tr>\n",
              "      <th>27476</th>\n",
              "      <td>4eac33d1c0</td>\n",
              "      <td>wish we could come see u on Denver  husband l...</td>\n",
              "      <td>d lost</td>\n",
              "      <td>negative</td>\n",
              "    </tr>\n",
              "    <tr>\n",
              "      <th>27477</th>\n",
              "      <td>4f4c4fc327</td>\n",
              "      <td>I`ve wondered about rake to.  The client has ...</td>\n",
              "      <td>, don`t force</td>\n",
              "      <td>negative</td>\n",
              "    </tr>\n",
              "    <tr>\n",
              "      <th>27478</th>\n",
              "      <td>f67aae2310</td>\n",
              "      <td>Yay good for both of you. Enjoy the break - y...</td>\n",
              "      <td>Yay good for both of you.</td>\n",
              "      <td>positive</td>\n",
              "    </tr>\n",
              "    <tr>\n",
              "      <th>27479</th>\n",
              "      <td>ed167662a5</td>\n",
              "      <td>But it was worth it  ****.</td>\n",
              "      <td>But it was worth it  ****.</td>\n",
              "      <td>positive</td>\n",
              "    </tr>\n",
              "    <tr>\n",
              "      <th>27480</th>\n",
              "      <td>6f7127d9d7</td>\n",
              "      <td>All this flirting going on - The ATG smiles...</td>\n",
              "      <td>All this flirting going on - The ATG smiles. Y...</td>\n",
              "      <td>neutral</td>\n",
              "    </tr>\n",
              "  </tbody>\n",
              "</table>\n",
              "<p>27481 rows × 4 columns</p>\n",
              "</div>\n",
              "      <button class=\"colab-df-convert\" onclick=\"convertToInteractive('df-d005184d-595d-499c-854b-43e64ceb6ebb')\"\n",
              "              title=\"Convert this dataframe to an interactive table.\"\n",
              "              style=\"display:none;\">\n",
              "        \n",
              "  <svg xmlns=\"http://www.w3.org/2000/svg\" height=\"24px\"viewBox=\"0 0 24 24\"\n",
              "       width=\"24px\">\n",
              "    <path d=\"M0 0h24v24H0V0z\" fill=\"none\"/>\n",
              "    <path d=\"M18.56 5.44l.94 2.06.94-2.06 2.06-.94-2.06-.94-.94-2.06-.94 2.06-2.06.94zm-11 1L8.5 8.5l.94-2.06 2.06-.94-2.06-.94L8.5 2.5l-.94 2.06-2.06.94zm10 10l.94 2.06.94-2.06 2.06-.94-2.06-.94-.94-2.06-.94 2.06-2.06.94z\"/><path d=\"M17.41 7.96l-1.37-1.37c-.4-.4-.92-.59-1.43-.59-.52 0-1.04.2-1.43.59L10.3 9.45l-7.72 7.72c-.78.78-.78 2.05 0 2.83L4 21.41c.39.39.9.59 1.41.59.51 0 1.02-.2 1.41-.59l7.78-7.78 2.81-2.81c.8-.78.8-2.07 0-2.86zM5.41 20L4 18.59l7.72-7.72 1.47 1.35L5.41 20z\"/>\n",
              "  </svg>\n",
              "      </button>\n",
              "      \n",
              "  <style>\n",
              "    .colab-df-container {\n",
              "      display:flex;\n",
              "      flex-wrap:wrap;\n",
              "      gap: 12px;\n",
              "    }\n",
              "\n",
              "    .colab-df-convert {\n",
              "      background-color: #E8F0FE;\n",
              "      border: none;\n",
              "      border-radius: 50%;\n",
              "      cursor: pointer;\n",
              "      display: none;\n",
              "      fill: #1967D2;\n",
              "      height: 32px;\n",
              "      padding: 0 0 0 0;\n",
              "      width: 32px;\n",
              "    }\n",
              "\n",
              "    .colab-df-convert:hover {\n",
              "      background-color: #E2EBFA;\n",
              "      box-shadow: 0px 1px 2px rgba(60, 64, 67, 0.3), 0px 1px 3px 1px rgba(60, 64, 67, 0.15);\n",
              "      fill: #174EA6;\n",
              "    }\n",
              "\n",
              "    [theme=dark] .colab-df-convert {\n",
              "      background-color: #3B4455;\n",
              "      fill: #D2E3FC;\n",
              "    }\n",
              "\n",
              "    [theme=dark] .colab-df-convert:hover {\n",
              "      background-color: #434B5C;\n",
              "      box-shadow: 0px 1px 3px 1px rgba(0, 0, 0, 0.15);\n",
              "      filter: drop-shadow(0px 1px 2px rgba(0, 0, 0, 0.3));\n",
              "      fill: #FFFFFF;\n",
              "    }\n",
              "  </style>\n",
              "\n",
              "      <script>\n",
              "        const buttonEl =\n",
              "          document.querySelector('#df-d005184d-595d-499c-854b-43e64ceb6ebb button.colab-df-convert');\n",
              "        buttonEl.style.display =\n",
              "          google.colab.kernel.accessAllowed ? 'block' : 'none';\n",
              "\n",
              "        async function convertToInteractive(key) {\n",
              "          const element = document.querySelector('#df-d005184d-595d-499c-854b-43e64ceb6ebb');\n",
              "          const dataTable =\n",
              "            await google.colab.kernel.invokeFunction('convertToInteractive',\n",
              "                                                     [key], {});\n",
              "          if (!dataTable) return;\n",
              "\n",
              "          const docLinkHtml = 'Like what you see? Visit the ' +\n",
              "            '<a target=\"_blank\" href=https://colab.research.google.com/notebooks/data_table.ipynb>data table notebook</a>'\n",
              "            + ' to learn more about interactive tables.';\n",
              "          element.innerHTML = '';\n",
              "          dataTable['output_type'] = 'display_data';\n",
              "          await google.colab.output.renderOutput(dataTable, element);\n",
              "          const docLink = document.createElement('div');\n",
              "          docLink.innerHTML = docLinkHtml;\n",
              "          element.appendChild(docLink);\n",
              "        }\n",
              "      </script>\n",
              "    </div>\n",
              "  </div>\n",
              "  "
            ],
            "text/plain": [
              "           textID                                               text  \\\n",
              "0      cb774db0d1                I`d have responded, if I were going   \n",
              "1      549e992a42      Sooo SAD I will miss you here in San Diego!!!   \n",
              "2      088c60f138                          my boss is bullying me...   \n",
              "3      9642c003ef                     what interview! leave me alone   \n",
              "4      358bd9e861   Sons of ****, why couldn`t they put them on t...   \n",
              "...           ...                                                ...   \n",
              "27476  4eac33d1c0   wish we could come see u on Denver  husband l...   \n",
              "27477  4f4c4fc327   I`ve wondered about rake to.  The client has ...   \n",
              "27478  f67aae2310   Yay good for both of you. Enjoy the break - y...   \n",
              "27479  ed167662a5                         But it was worth it  ****.   \n",
              "27480  6f7127d9d7     All this flirting going on - The ATG smiles...   \n",
              "\n",
              "                                           selected_text sentiment  \n",
              "0                    I`d have responded, if I were going   neutral  \n",
              "1                                               Sooo SAD  negative  \n",
              "2                                            bullying me  negative  \n",
              "3                                         leave me alone  negative  \n",
              "4                                          Sons of ****,  negative  \n",
              "...                                                  ...       ...  \n",
              "27476                                             d lost  negative  \n",
              "27477                                      , don`t force  negative  \n",
              "27478                          Yay good for both of you.  positive  \n",
              "27479                         But it was worth it  ****.  positive  \n",
              "27480  All this flirting going on - The ATG smiles. Y...   neutral  \n",
              "\n",
              "[27481 rows x 4 columns]"
            ]
          },
          "execution_count": 9,
          "metadata": {},
          "output_type": "execute_result"
        }
      ],
      "source": [
        "# load tweets_df and view\n",
        "# tweets_df = pd.read_csv(\"Resources/Tweets.csv\")\n",
        "\n",
        "\n",
        "\n",
        "from pyspark import SparkFiles\n",
        "# url =\"https://tweet-2022.s3.amazonaws.com/Tweets.csv\"\n",
        "# spark.sparkContext.addFile(url)\n",
        "# spark_tweets_df = spark.read.csv(SparkFiles.get(\"Tweets.csv\"), sep=\",\", header=True)\n",
        "# tweets_df = spark.read.csv(SparkFiles.get(\"Tweets.csv\"), sep=\",\", header=True)\n",
        "\n",
        "\n",
        "tweets_df = pd.read_csv(\"/content/Tweets.csv\")\n",
        "# tweets_df=spark_tweets_df.toPandas()\n",
        "tweets_df"
      ]
    },
    {
      "cell_type": "code",
      "execution_count": 10,
      "id": "c311757b",
      "metadata": {
        "id": "c311757b"
      },
      "outputs": [],
      "source": [
        "# get dataframe ready for processing\n",
        "\n",
        "# make sure the tweets in column \"text\" are strings\n",
        "tweets_df['text'] = tweets_df['text'].astype('str')\n",
        "\n",
        "# delete the unneccessary columns\n",
        "tweets_df = tweets_df.drop(columns=[\"textID\", \"selected_text\"])"
      ]
    },
    {
      "cell_type": "code",
      "execution_count": 11,
      "id": "47021da3",
      "metadata": {
        "id": "47021da3"
      },
      "outputs": [],
      "source": [
        "def process_tweets(tweet):\n",
        "    # make the text all lowercase\n",
        "    tweet = tweet.lower()\n",
        "    \n",
        "    # remove punctuation\n",
        "    tweet = \"\".join(char for char in tweet if char not in string.punctuation)\n",
        "    \n",
        "    # tokenize the tweet for url clean\n",
        "    tokenize_tweet_url = word_tokenize(tweet)\n",
        "    \n",
        "    # remove urls\n",
        "    tokenize_tweet_url = \" \".join([i for i in tokenize_tweet_url if 'http' not in i])\n",
        "    \n",
        "    # tokenize the tweet\n",
        "    tokenize_tweets = word_tokenize(tokenize_tweet_url)\n",
        "    \n",
        "    # remove stopwords\n",
        "    stopword = stopwords.words(\"english\")\n",
        "    tweet_wo_stop = [word for word in tokenize_tweets if word not in stopword]\n",
        "    \n",
        "    # lemmatization\n",
        "    lemm = WordNetLemmatizer()\n",
        "    lemmed = [lemm.lemmatize(word) for word in tweet_wo_stop]\n",
        "    \n",
        "    # put string together\n",
        "    final_tweet = \" \".join(lemmed)\n",
        "    \n",
        "    return final_tweet"
      ]
    },
    {
      "cell_type": "code",
      "execution_count": 12,
      "id": "8616da88",
      "metadata": {
        "colab": {
          "base_uri": "https://localhost:8080/",
          "height": 206
        },
        "id": "8616da88",
        "outputId": "7e547a86-33ea-4588-ab60-f2ff3ecbc9c3"
      },
      "outputs": [
        {
          "data": {
            "text/html": [
              "\n",
              "  <div id=\"df-52c2532f-bc6f-497a-84a9-76b6dfbe06fe\">\n",
              "    <div class=\"colab-df-container\">\n",
              "      <div>\n",
              "<style scoped>\n",
              "    .dataframe tbody tr th:only-of-type {\n",
              "        vertical-align: middle;\n",
              "    }\n",
              "\n",
              "    .dataframe tbody tr th {\n",
              "        vertical-align: top;\n",
              "    }\n",
              "\n",
              "    .dataframe thead th {\n",
              "        text-align: right;\n",
              "    }\n",
              "</style>\n",
              "<table border=\"1\" class=\"dataframe\">\n",
              "  <thead>\n",
              "    <tr style=\"text-align: right;\">\n",
              "      <th></th>\n",
              "      <th>text</th>\n",
              "      <th>sentiment</th>\n",
              "    </tr>\n",
              "  </thead>\n",
              "  <tbody>\n",
              "    <tr>\n",
              "      <th>0</th>\n",
              "      <td>id responded going</td>\n",
              "      <td>neutral</td>\n",
              "    </tr>\n",
              "    <tr>\n",
              "      <th>1</th>\n",
              "      <td>sooo sad miss san diego</td>\n",
              "      <td>negative</td>\n",
              "    </tr>\n",
              "    <tr>\n",
              "      <th>2</th>\n",
              "      <td>bos bullying</td>\n",
              "      <td>negative</td>\n",
              "    </tr>\n",
              "    <tr>\n",
              "      <th>3</th>\n",
              "      <td>interview leave alone</td>\n",
              "      <td>negative</td>\n",
              "    </tr>\n",
              "    <tr>\n",
              "      <th>4</th>\n",
              "      <td>son couldnt put release already bought</td>\n",
              "      <td>negative</td>\n",
              "    </tr>\n",
              "  </tbody>\n",
              "</table>\n",
              "</div>\n",
              "      <button class=\"colab-df-convert\" onclick=\"convertToInteractive('df-52c2532f-bc6f-497a-84a9-76b6dfbe06fe')\"\n",
              "              title=\"Convert this dataframe to an interactive table.\"\n",
              "              style=\"display:none;\">\n",
              "        \n",
              "  <svg xmlns=\"http://www.w3.org/2000/svg\" height=\"24px\"viewBox=\"0 0 24 24\"\n",
              "       width=\"24px\">\n",
              "    <path d=\"M0 0h24v24H0V0z\" fill=\"none\"/>\n",
              "    <path d=\"M18.56 5.44l.94 2.06.94-2.06 2.06-.94-2.06-.94-.94-2.06-.94 2.06-2.06.94zm-11 1L8.5 8.5l.94-2.06 2.06-.94-2.06-.94L8.5 2.5l-.94 2.06-2.06.94zm10 10l.94 2.06.94-2.06 2.06-.94-2.06-.94-.94-2.06-.94 2.06-2.06.94z\"/><path d=\"M17.41 7.96l-1.37-1.37c-.4-.4-.92-.59-1.43-.59-.52 0-1.04.2-1.43.59L10.3 9.45l-7.72 7.72c-.78.78-.78 2.05 0 2.83L4 21.41c.39.39.9.59 1.41.59.51 0 1.02-.2 1.41-.59l7.78-7.78 2.81-2.81c.8-.78.8-2.07 0-2.86zM5.41 20L4 18.59l7.72-7.72 1.47 1.35L5.41 20z\"/>\n",
              "  </svg>\n",
              "      </button>\n",
              "      \n",
              "  <style>\n",
              "    .colab-df-container {\n",
              "      display:flex;\n",
              "      flex-wrap:wrap;\n",
              "      gap: 12px;\n",
              "    }\n",
              "\n",
              "    .colab-df-convert {\n",
              "      background-color: #E8F0FE;\n",
              "      border: none;\n",
              "      border-radius: 50%;\n",
              "      cursor: pointer;\n",
              "      display: none;\n",
              "      fill: #1967D2;\n",
              "      height: 32px;\n",
              "      padding: 0 0 0 0;\n",
              "      width: 32px;\n",
              "    }\n",
              "\n",
              "    .colab-df-convert:hover {\n",
              "      background-color: #E2EBFA;\n",
              "      box-shadow: 0px 1px 2px rgba(60, 64, 67, 0.3), 0px 1px 3px 1px rgba(60, 64, 67, 0.15);\n",
              "      fill: #174EA6;\n",
              "    }\n",
              "\n",
              "    [theme=dark] .colab-df-convert {\n",
              "      background-color: #3B4455;\n",
              "      fill: #D2E3FC;\n",
              "    }\n",
              "\n",
              "    [theme=dark] .colab-df-convert:hover {\n",
              "      background-color: #434B5C;\n",
              "      box-shadow: 0px 1px 3px 1px rgba(0, 0, 0, 0.15);\n",
              "      filter: drop-shadow(0px 1px 2px rgba(0, 0, 0, 0.3));\n",
              "      fill: #FFFFFF;\n",
              "    }\n",
              "  </style>\n",
              "\n",
              "      <script>\n",
              "        const buttonEl =\n",
              "          document.querySelector('#df-52c2532f-bc6f-497a-84a9-76b6dfbe06fe button.colab-df-convert');\n",
              "        buttonEl.style.display =\n",
              "          google.colab.kernel.accessAllowed ? 'block' : 'none';\n",
              "\n",
              "        async function convertToInteractive(key) {\n",
              "          const element = document.querySelector('#df-52c2532f-bc6f-497a-84a9-76b6dfbe06fe');\n",
              "          const dataTable =\n",
              "            await google.colab.kernel.invokeFunction('convertToInteractive',\n",
              "                                                     [key], {});\n",
              "          if (!dataTable) return;\n",
              "\n",
              "          const docLinkHtml = 'Like what you see? Visit the ' +\n",
              "            '<a target=\"_blank\" href=https://colab.research.google.com/notebooks/data_table.ipynb>data table notebook</a>'\n",
              "            + ' to learn more about interactive tables.';\n",
              "          element.innerHTML = '';\n",
              "          dataTable['output_type'] = 'display_data';\n",
              "          await google.colab.output.renderOutput(dataTable, element);\n",
              "          const docLink = document.createElement('div');\n",
              "          docLink.innerHTML = docLinkHtml;\n",
              "          element.appendChild(docLink);\n",
              "        }\n",
              "      </script>\n",
              "    </div>\n",
              "  </div>\n",
              "  "
            ],
            "text/plain": [
              "                                     text sentiment\n",
              "0                      id responded going   neutral\n",
              "1                 sooo sad miss san diego  negative\n",
              "2                            bos bullying  negative\n",
              "3                   interview leave alone  negative\n",
              "4  son couldnt put release already bought  negative"
            ]
          },
          "execution_count": 12,
          "metadata": {},
          "output_type": "execute_result"
        }
      ],
      "source": [
        "# process tweets using above function\n",
        "tweets_df['text'] = tweets_df['text'].apply(lambda x: process_tweets(x))\n",
        "tweets_df = tweets_df.dropna()\n",
        "\n",
        "# view updated dataframe\n",
        "tweets_df.head()"
      ]
    },
    {
      "cell_type": "code",
      "execution_count": 13,
      "id": "f2da464f",
      "metadata": {
        "colab": {
          "base_uri": "https://localhost:8080/",
          "height": 265
        },
        "id": "f2da464f",
        "outputId": "2e5c187b-8ecf-401a-abc3-f21f32709fe4"
      },
      "outputs": [
        {
          "data": {
            "text/plain": [
              "<matplotlib.axes._subplots.AxesSubplot at 0x7fe669e72970>"
            ]
          },
          "execution_count": 13,
          "metadata": {},
          "output_type": "execute_result"
        },
        {
          "data": {
            "image/png": "[encoded data removed]",
            "text/plain": [
              "<Figure size 432x288 with 1 Axes>"
            ]
          },
          "metadata": {},
          "output_type": "display_data"
        }
      ],
      "source": [
        "# visualize distribution\n",
        "tweets_df.sentiment.value_counts().plot(kind='pie', autopct='%1.0f%%', colors=['blue', 'gold', 'red'])"
      ]
    },
    {
      "cell_type": "code",
      "execution_count": 14,
      "id": "aa959b52",
      "metadata": {
        "colab": {
          "base_uri": "https://localhost:8080/",
          "height": 206
        },
        "id": "aa959b52",
        "outputId": "54231524-34fa-4b5b-e6fe-02ea5741b5be"
      },
      "outputs": [
        {
          "data": {
            "text/html": [
              "\n",
              "  <div id=\"df-abf843aa-f79a-4aff-98db-ccb4be5a8211\">\n",
              "    <div class=\"colab-df-container\">\n",
              "      <div>\n",
              "<style scoped>\n",
              "    .dataframe tbody tr th:only-of-type {\n",
              "        vertical-align: middle;\n",
              "    }\n",
              "\n",
              "    .dataframe tbody tr th {\n",
              "        vertical-align: top;\n",
              "    }\n",
              "\n",
              "    .dataframe thead th {\n",
              "        text-align: right;\n",
              "    }\n",
              "</style>\n",
              "<table border=\"1\" class=\"dataframe\">\n",
              "  <thead>\n",
              "    <tr style=\"text-align: right;\">\n",
              "      <th></th>\n",
              "      <th>text</th>\n",
              "      <th>sentiment</th>\n",
              "    </tr>\n",
              "  </thead>\n",
              "  <tbody>\n",
              "    <tr>\n",
              "      <th>0</th>\n",
              "      <td>id responded going</td>\n",
              "      <td>0</td>\n",
              "    </tr>\n",
              "    <tr>\n",
              "      <th>1</th>\n",
              "      <td>sooo sad miss san diego</td>\n",
              "      <td>-1</td>\n",
              "    </tr>\n",
              "    <tr>\n",
              "      <th>2</th>\n",
              "      <td>bos bullying</td>\n",
              "      <td>-1</td>\n",
              "    </tr>\n",
              "    <tr>\n",
              "      <th>3</th>\n",
              "      <td>interview leave alone</td>\n",
              "      <td>-1</td>\n",
              "    </tr>\n",
              "    <tr>\n",
              "      <th>4</th>\n",
              "      <td>son couldnt put release already bought</td>\n",
              "      <td>-1</td>\n",
              "    </tr>\n",
              "  </tbody>\n",
              "</table>\n",
              "</div>\n",
              "      <button class=\"colab-df-convert\" onclick=\"convertToInteractive('df-abf843aa-f79a-4aff-98db-ccb4be5a8211')\"\n",
              "              title=\"Convert this dataframe to an interactive table.\"\n",
              "              style=\"display:none;\">\n",
              "        \n",
              "  <svg xmlns=\"http://www.w3.org/2000/svg\" height=\"24px\"viewBox=\"0 0 24 24\"\n",
              "       width=\"24px\">\n",
              "    <path d=\"M0 0h24v24H0V0z\" fill=\"none\"/>\n",
              "    <path d=\"M18.56 5.44l.94 2.06.94-2.06 2.06-.94-2.06-.94-.94-2.06-.94 2.06-2.06.94zm-11 1L8.5 8.5l.94-2.06 2.06-.94-2.06-.94L8.5 2.5l-.94 2.06-2.06.94zm10 10l.94 2.06.94-2.06 2.06-.94-2.06-.94-.94-2.06-.94 2.06-2.06.94z\"/><path d=\"M17.41 7.96l-1.37-1.37c-.4-.4-.92-.59-1.43-.59-.52 0-1.04.2-1.43.59L10.3 9.45l-7.72 7.72c-.78.78-.78 2.05 0 2.83L4 21.41c.39.39.9.59 1.41.59.51 0 1.02-.2 1.41-.59l7.78-7.78 2.81-2.81c.8-.78.8-2.07 0-2.86zM5.41 20L4 18.59l7.72-7.72 1.47 1.35L5.41 20z\"/>\n",
              "  </svg>\n",
              "      </button>\n",
              "      \n",
              "  <style>\n",
              "    .colab-df-container {\n",
              "      display:flex;\n",
              "      flex-wrap:wrap;\n",
              "      gap: 12px;\n",
              "    }\n",
              "\n",
              "    .colab-df-convert {\n",
              "      background-color: #E8F0FE;\n",
              "      border: none;\n",
              "      border-radius: 50%;\n",
              "      cursor: pointer;\n",
              "      display: none;\n",
              "      fill: #1967D2;\n",
              "      height: 32px;\n",
              "      padding: 0 0 0 0;\n",
              "      width: 32px;\n",
              "    }\n",
              "\n",
              "    .colab-df-convert:hover {\n",
              "      background-color: #E2EBFA;\n",
              "      box-shadow: 0px 1px 2px rgba(60, 64, 67, 0.3), 0px 1px 3px 1px rgba(60, 64, 67, 0.15);\n",
              "      fill: #174EA6;\n",
              "    }\n",
              "\n",
              "    [theme=dark] .colab-df-convert {\n",
              "      background-color: #3B4455;\n",
              "      fill: #D2E3FC;\n",
              "    }\n",
              "\n",
              "    [theme=dark] .colab-df-convert:hover {\n",
              "      background-color: #434B5C;\n",
              "      box-shadow: 0px 1px 3px 1px rgba(0, 0, 0, 0.15);\n",
              "      filter: drop-shadow(0px 1px 2px rgba(0, 0, 0, 0.3));\n",
              "      fill: #FFFFFF;\n",
              "    }\n",
              "  </style>\n",
              "\n",
              "      <script>\n",
              "        const buttonEl =\n",
              "          document.querySelector('#df-abf843aa-f79a-4aff-98db-ccb4be5a8211 button.colab-df-convert');\n",
              "        buttonEl.style.display =\n",
              "          google.colab.kernel.accessAllowed ? 'block' : 'none';\n",
              "\n",
              "        async function convertToInteractive(key) {\n",
              "          const element = document.querySelector('#df-abf843aa-f79a-4aff-98db-ccb4be5a8211');\n",
              "          const dataTable =\n",
              "            await google.colab.kernel.invokeFunction('convertToInteractive',\n",
              "                                                     [key], {});\n",
              "          if (!dataTable) return;\n",
              "\n",
              "          const docLinkHtml = 'Like what you see? Visit the ' +\n",
              "            '<a target=\"_blank\" href=https://colab.research.google.com/notebooks/data_table.ipynb>data table notebook</a>'\n",
              "            + ' to learn more about interactive tables.';\n",
              "          element.innerHTML = '';\n",
              "          dataTable['output_type'] = 'display_data';\n",
              "          await google.colab.output.renderOutput(dataTable, element);\n",
              "          const docLink = document.createElement('div');\n",
              "          docLink.innerHTML = docLinkHtml;\n",
              "          element.appendChild(docLink);\n",
              "        }\n",
              "      </script>\n",
              "    </div>\n",
              "  </div>\n",
              "  "
            ],
            "text/plain": [
              "                                     text  sentiment\n",
              "0                      id responded going          0\n",
              "1                 sooo sad miss san diego         -1\n",
              "2                            bos bullying         -1\n",
              "3                   interview leave alone         -1\n",
              "4  son couldnt put release already bought         -1"
            ]
          },
          "execution_count": 14,
          "metadata": {},
          "output_type": "execute_result"
        }
      ],
      "source": [
        "# transform the sentiment column into numbers\n",
        "dict_sentiment = {'positive': 1, 'neutral': 0, 'negative': -1}\n",
        "tweets_df['sentiment'] = tweets_df['sentiment'].apply(lambda x: dict_sentiment.get(x))\n",
        "\n",
        "# view updated dataframe\n",
        "tweets_df.head()"
      ]
    },
    {
      "cell_type": "code",
      "execution_count": 15,
      "id": "c926d3e2",
      "metadata": {
        "id": "c926d3e2"
      },
      "outputs": [],
      "source": [
        "# create a separate data frame without neutral tweets\n",
        "tweets_no_neut = tweets_df[tweets_df[\"sentiment\"] != 0]"
      ]
    },
    {
      "cell_type": "code",
      "execution_count": 31,
      "id": "GnRFkWIBKFU4",
      "metadata": {
        "colab": {
          "base_uri": "https://localhost:8080/",
          "height": 265
        },
        "id": "GnRFkWIBKFU4",
        "outputId": "7daa8066-eade-4318-d954-007161c622de"
      },
      "outputs": [
        {
          "data": {
            "text/plain": [
              "<matplotlib.axes._subplots.AxesSubplot at 0x7fe6673e2dc0>"
            ]
          },
          "execution_count": 31,
          "metadata": {},
          "output_type": "execute_result"
        },
        {
          "data": {
            "image/png": "[encoded data removed]",
            "text/plain": [
              "<Figure size 432x288 with 1 Axes>"
            ]
          },
          "metadata": {},
          "output_type": "display_data"
        }
      ],
      "source": [
        "# visualize distribution - without neutral sentiment\n",
        "tweets_no_neut.sentiment.value_counts().plot(kind='pie', autopct='%1.0f%%', colors=['blue', 'gold', 'red'])"
      ]
    },
    {
      "cell_type": "code",
      "execution_count": 16,
      "id": "7f0280c2",
      "metadata": {
        "id": "7f0280c2"
      },
      "outputs": [],
      "source": [
        "# Create the X and y data \n",
        "def create_train_test_data (tweets_df, train_size):\n",
        "    \n",
        "    # assign X and y to the input and target columns\n",
        "    X = tweets_df['text']\n",
        "    y = tweets_df['sentiment']\n",
        "\n",
        "    # split the data into testing data and training data\n",
        "    if train_size == 0:\n",
        "        X_train, X_test, y_train, y_test = train_test_split(X, y)\n",
        "    else:\n",
        "        X_train, X_test, y_train, y_test = train_test_split(X, y, train_size=train_size)\n",
        "\n",
        "    # transform the data into tfidf vectors\n",
        "    # fit the tfidf vectorizer on the training data to avoid bias\n",
        "    vectorizer = TfidfVectorizer()\n",
        "    X_train_tfidf = vectorizer.fit_transform(X_train)\n",
        "    X_test_tfidf = vectorizer.transform(X_test)\n",
        "    \n",
        "    return X_train_tfidf, X_test_tfidf, y_train, y_test"
      ]
    },
    {
      "cell_type": "code",
      "execution_count": 17,
      "id": "91767a3f",
      "metadata": {
        "id": "91767a3f"
      },
      "outputs": [],
      "source": [
        "# create the model\n",
        "def create_model(tweets_df, attempt_num, model, train_size):\n",
        "    # Get the train and test data\n",
        "    \n",
        "    X_train_tfidf, X_test_tfidf, y_train, y_test = create_train_test_data (tweets_df, train_size)\n",
        "\n",
        "    # create a logistic regression model and fit it to the training data\n",
        "    \n",
        "    model.fit(X_train_tfidf, y_train)\n",
        "    evaluate(model, X_train_tfidf, y_train, X_test_tfidf, y_test, attempt_num)"
      ]
    },
    {
      "cell_type": "code",
      "execution_count": 18,
      "id": "0219b4d8",
      "metadata": {
        "id": "0219b4d8"
      },
      "outputs": [],
      "source": [
        "# evaluate the model\n",
        "def evaluate(model, X_train_tfidf, y_train, X_test_tfidf, y_test, attempt_num):\n",
        "    \n",
        "    # look at the scores for the testing and training data\n",
        "    print(f\"Attempt {attempt_num} ----------------------------------------\")\n",
        "    print(f\"Training Data Score: {model.score(X_train_tfidf, y_train)}\")\n",
        "    print(f\"Testing Data Score: {model.score(X_test_tfidf, y_test)} \\n\")\n",
        "\n",
        "    # find metrics for testing data\n",
        "    print(confusion_matrix(y_test.values, model.predict(X_test_tfidf)))\n",
        "    print(classification_report(y_test.values, model.predict(X_test_tfidf)))"
      ]
    },
    {
      "cell_type": "markdown",
      "id": "7252b265",
      "metadata": {
        "id": "7252b265"
      },
      "source": [
        "## Logistic Regression"
      ]
    },
    {
      "cell_type": "code",
      "execution_count": 19,
      "id": "c056cb6b",
      "metadata": {
        "colab": {
          "base_uri": "https://localhost:8080/"
        },
        "id": "c056cb6b",
        "outputId": "26fd87ad-59ad-4ca9-834b-6da1f8f98569"
      },
      "outputs": [
        {
          "name": "stderr",
          "output_type": "stream",
          "text": [
            "/usr/local/lib/python3.8/dist-packages/sklearn/linear_model/_logistic.py:814: ConvergenceWarning: lbfgs failed to converge (status=1):\n",
            "STOP: TOTAL NO. of ITERATIONS REACHED LIMIT.\n",
            "\n",
            "Increase the number of iterations (max_iter) or scale the data as shown in:\n",
            "    https://scikit-learn.org/stable/modules/preprocessing.html\n",
            "Please also refer to the documentation for alternative solver options:\n",
            "    https://scikit-learn.org/stable/modules/linear_model.html#logistic-regression\n",
            "  n_iter_i = _check_optimize_result(\n"
          ]
        },
        {
          "name": "stdout",
          "output_type": "stream",
          "text": [
            "Attempt 1 ----------------------------------------\n",
            "Training Data Score: 0.8197476952935469\n",
            "Testing Data Score: 0.6795226313491486 \n",
            "\n",
            "[[1164  717  104]\n",
            " [ 384 2052  324]\n",
            " [  83  590 1453]]\n",
            "              precision    recall  f1-score   support\n",
            "\n",
            "          -1       0.71      0.59      0.64      1985\n",
            "           0       0.61      0.74      0.67      2760\n",
            "           1       0.77      0.68      0.73      2126\n",
            "\n",
            "    accuracy                           0.68      6871\n",
            "   macro avg       0.70      0.67      0.68      6871\n",
            "weighted avg       0.69      0.68      0.68      6871\n",
            "\n",
            "Attempt 2 ----------------------------------------\n",
            "Training Data Score: 0.9323663624511083\n",
            "Testing Data Score: 0.8645807870936202 \n",
            "\n",
            "[[1701  259]\n",
            " [ 295 1836]]\n",
            "              precision    recall  f1-score   support\n",
            "\n",
            "          -1       0.85      0.87      0.86      1960\n",
            "           1       0.88      0.86      0.87      2131\n",
            "\n",
            "    accuracy                           0.86      4091\n",
            "   macro avg       0.86      0.86      0.86      4091\n",
            "weighted avg       0.86      0.86      0.86      4091\n",
            "\n"
          ]
        }
      ],
      "source": [
        "from sklearn.linear_model import LogisticRegression\n",
        "\n",
        "model = LogisticRegression()\n",
        "create_model(tweets_df, 1, model, 0)\n",
        "create_model(tweets_no_neut, 2, model, 0)"
      ]
    },
    {
      "cell_type": "markdown",
      "id": "b194d5d2",
      "metadata": {
        "id": "b194d5d2"
      },
      "source": [
        "## Random Forest Classifier"
      ]
    },
    {
      "cell_type": "code",
      "execution_count": 20,
      "id": "31875fa3",
      "metadata": {
        "colab": {
          "base_uri": "https://localhost:8080/"
        },
        "id": "31875fa3",
        "outputId": "7f0332c0-ee76-4400-9f17-e52d434df110"
      },
      "outputs": [
        {
          "name": "stdout",
          "output_type": "stream",
          "text": [
            "Attempt 1 ----------------------------------------\n",
            "Training Data Score: 0.99745269286754\n",
            "Testing Data Score: 0.6985628524649808 \n",
            "\n",
            "[[ 917  514  140]\n",
            " [ 263 1650  314]\n",
            " [  63  363 1273]]\n",
            "              precision    recall  f1-score   support\n",
            "\n",
            "          -1       0.74      0.58      0.65      1571\n",
            "           0       0.65      0.74      0.69      2227\n",
            "           1       0.74      0.75      0.74      1699\n",
            "\n",
            "    accuracy                           0.70      5497\n",
            "   macro avg       0.71      0.69      0.70      5497\n",
            "weighted avg       0.70      0.70      0.70      5497\n",
            "\n",
            "Attempt 2 ----------------------------------------\n",
            "Training Data Score: 0.9996180290297937\n",
            "Testing Data Score: 0.8505957836846929 \n",
            "\n",
            "[[1332  196]\n",
            " [ 293 1452]]\n",
            "              precision    recall  f1-score   support\n",
            "\n",
            "          -1       0.82      0.87      0.84      1528\n",
            "           1       0.88      0.83      0.86      1745\n",
            "\n",
            "    accuracy                           0.85      3273\n",
            "   macro avg       0.85      0.85      0.85      3273\n",
            "weighted avg       0.85      0.85      0.85      3273\n",
            "\n"
          ]
        }
      ],
      "source": [
        "from sklearn.ensemble import RandomForestClassifier\n",
        "\n",
        "twitter_classi = RandomForestClassifier(n_estimators=300, random_state=0)\n",
        "create_model(tweets_df, 1, twitter_classi, train_size=.8)\n",
        "create_model(tweets_no_neut, 2, twitter_classi, train_size=.8)"
      ]
    },
    {
      "cell_type": "markdown",
      "id": "a107093b",
      "metadata": {
        "id": "a107093b"
      },
      "source": [
        "## Extra Trees Classifier"
      ]
    },
    {
      "cell_type": "code",
      "execution_count": 21,
      "id": "a1559f69",
      "metadata": {
        "colab": {
          "base_uri": "https://localhost:8080/"
        },
        "id": "a1559f69",
        "outputId": "a394a2fd-4061-4c2a-f348-e2822eef0250"
      },
      "outputs": [
        {
          "name": "stdout",
          "output_type": "stream",
          "text": [
            "Attempt 1 ----------------------------------------\n",
            "Training Data Score: 0.9977711062590975\n",
            "Testing Data Score: 0.7000181917409496 \n",
            "\n",
            "[[ 917  500  104]\n",
            " [ 292 1644  301]\n",
            " [  66  386 1287]]\n",
            "              precision    recall  f1-score   support\n",
            "\n",
            "          -1       0.72      0.60      0.66      1521\n",
            "           0       0.65      0.73      0.69      2237\n",
            "           1       0.76      0.74      0.75      1739\n",
            "\n",
            "    accuracy                           0.70      5497\n",
            "   macro avg       0.71      0.69      0.70      5497\n",
            "weighted avg       0.70      0.70      0.70      5497\n",
            "\n",
            "Attempt 2 ----------------------------------------\n",
            "Training Data Score: 0.9995416348357525\n",
            "Testing Data Score: 0.8594561564314085 \n",
            "\n",
            "[[1347  186]\n",
            " [ 274 1466]]\n",
            "              precision    recall  f1-score   support\n",
            "\n",
            "          -1       0.83      0.88      0.85      1533\n",
            "           1       0.89      0.84      0.86      1740\n",
            "\n",
            "    accuracy                           0.86      3273\n",
            "   macro avg       0.86      0.86      0.86      3273\n",
            "weighted avg       0.86      0.86      0.86      3273\n",
            "\n"
          ]
        }
      ],
      "source": [
        "from sklearn.ensemble import ExtraTreesClassifier\n",
        "\n",
        "twitter_ex = ExtraTreesClassifier(random_state=1)\n",
        "create_model(tweets_df, 1, twitter_ex, train_size=.8)\n",
        "create_model(tweets_no_neut, 2, twitter_ex, train_size=.8)"
      ]
    },
    {
      "cell_type": "markdown",
      "id": "0002db64",
      "metadata": {
        "id": "0002db64"
      },
      "source": [
        "## Ada Boost Classifier"
      ]
    },
    {
      "cell_type": "code",
      "execution_count": 22,
      "id": "772d9f0b",
      "metadata": {
        "colab": {
          "base_uri": "https://localhost:8080/"
        },
        "id": "772d9f0b",
        "outputId": "ad95e95f-a117-45f8-b00b-c5617ef464f8"
      },
      "outputs": [
        {
          "name": "stdout",
          "output_type": "stream",
          "text": [
            "Attempt 1 ----------------------------------------\n",
            "Training Data Score: 0.6571142649199417\n",
            "Testing Data Score: 0.643441877387666 \n",
            "\n",
            "[[ 618  870  119]\n",
            " [ 152 1795  269]\n",
            " [  44  506 1124]]\n",
            "              precision    recall  f1-score   support\n",
            "\n",
            "          -1       0.76      0.38      0.51      1607\n",
            "           0       0.57      0.81      0.67      2216\n",
            "           1       0.74      0.67      0.71      1674\n",
            "\n",
            "    accuracy                           0.64      5497\n",
            "   macro avg       0.69      0.62      0.63      5497\n",
            "weighted avg       0.68      0.64      0.63      5497\n",
            "\n",
            "Attempt 2 ----------------------------------------\n",
            "Training Data Score: 0.8076394194041253\n",
            "Testing Data Score: 0.79040635502597 \n",
            "\n",
            "[[1448  167]\n",
            " [ 519 1139]]\n",
            "              precision    recall  f1-score   support\n",
            "\n",
            "          -1       0.74      0.90      0.81      1615\n",
            "           1       0.87      0.69      0.77      1658\n",
            "\n",
            "    accuracy                           0.79      3273\n",
            "   macro avg       0.80      0.79      0.79      3273\n",
            "weighted avg       0.81      0.79      0.79      3273\n",
            "\n"
          ]
        }
      ],
      "source": [
        "from sklearn.ensemble import AdaBoostClassifier\n",
        "twitter_ada = AdaBoostClassifier(random_state=1)\n",
        "create_model(tweets_df, 1, twitter_ada, train_size=.8)\n",
        "create_model(tweets_no_neut, 2, twitter_ada, train_size=.8)"
      ]
    },
    {
      "cell_type": "markdown",
      "id": "a25a8104",
      "metadata": {
        "id": "a25a8104"
      },
      "source": [
        "# Naive Bayes"
      ]
    },
    {
      "cell_type": "code",
      "execution_count": 23,
      "id": "8dfd0224",
      "metadata": {
        "colab": {
          "base_uri": "https://localhost:8080/"
        },
        "id": "8dfd0224",
        "outputId": "1c0a22e7-3213-4eaf-aaf6-56a20015e094"
      },
      "outputs": [
        {
          "name": "stdout",
          "output_type": "stream",
          "text": [
            "Attempt 1 ----------------------------------------\n",
            "Training Data Score: 0.7968977438136827\n",
            "Testing Data Score: 0.6110605784973622 \n",
            "\n",
            "[[ 632  893   58]\n",
            " [ 151 1794  275]\n",
            " [  40  721  933]]\n",
            "              precision    recall  f1-score   support\n",
            "\n",
            "          -1       0.77      0.40      0.53      1583\n",
            "           0       0.53      0.81      0.64      2220\n",
            "           1       0.74      0.55      0.63      1694\n",
            "\n",
            "    accuracy                           0.61      5497\n",
            "   macro avg       0.68      0.59      0.60      5497\n",
            "weighted avg       0.66      0.61      0.60      5497\n",
            "\n",
            "Attempt 2 ----------------------------------------\n",
            "Training Data Score: 0.9377387318563789\n",
            "Testing Data Score: 0.8472349526428353 \n",
            "\n",
            "[[1275  319]\n",
            " [ 181 1498]]\n",
            "              precision    recall  f1-score   support\n",
            "\n",
            "          -1       0.88      0.80      0.84      1594\n",
            "           1       0.82      0.89      0.86      1679\n",
            "\n",
            "    accuracy                           0.85      3273\n",
            "   macro avg       0.85      0.85      0.85      3273\n",
            "weighted avg       0.85      0.85      0.85      3273\n",
            "\n"
          ]
        }
      ],
      "source": [
        "from sklearn.naive_bayes import MultinomialNB\n",
        "mnb = MultinomialNB()\n",
        "create_model(tweets_df,1,mnb,train_size=0.8)\n",
        "create_model(tweets_no_neut,2,mnb,train_size=0.8)"
      ]
    },
    {
      "cell_type": "markdown",
      "id": "1eg0eqPOllG0",
      "metadata": {
        "id": "1eg0eqPOllG0"
      },
      "source": [
        "# Naive Bayes using PySpark"
      ]
    },
    {
      "cell_type": "code",
      "execution_count": 24,
      "id": "Sh4IFN6tL7DS",
      "metadata": {
        "colab": {
          "base_uri": "https://localhost:8080/",
          "height": 424
        },
        "id": "Sh4IFN6tL7DS",
        "outputId": "9fdeced9-b519-4612-d6c6-fcba9f354eea"
      },
      "outputs": [
        {
          "data": {
            "text/html": [
              "\n",
              "  <div id=\"df-770a0ac7-8f0e-46be-8ddb-6a7bcd20507a\">\n",
              "    <div class=\"colab-df-container\">\n",
              "      <div>\n",
              "<style scoped>\n",
              "    .dataframe tbody tr th:only-of-type {\n",
              "        vertical-align: middle;\n",
              "    }\n",
              "\n",
              "    .dataframe tbody tr th {\n",
              "        vertical-align: top;\n",
              "    }\n",
              "\n",
              "    .dataframe thead th {\n",
              "        text-align: right;\n",
              "    }\n",
              "</style>\n",
              "<table border=\"1\" class=\"dataframe\">\n",
              "  <thead>\n",
              "    <tr style=\"text-align: right;\">\n",
              "      <th></th>\n",
              "      <th>textID</th>\n",
              "      <th>text</th>\n",
              "      <th>selected_text</th>\n",
              "      <th>sentiment</th>\n",
              "    </tr>\n",
              "  </thead>\n",
              "  <tbody>\n",
              "    <tr>\n",
              "      <th>0</th>\n",
              "      <td>cb774db0d1</td>\n",
              "      <td>I`d have responded, if I were going</td>\n",
              "      <td>I`d have responded, if I were going</td>\n",
              "      <td>neutral</td>\n",
              "    </tr>\n",
              "    <tr>\n",
              "      <th>1</th>\n",
              "      <td>549e992a42</td>\n",
              "      <td>Sooo SAD I will miss you here in San Diego!!!</td>\n",
              "      <td>Sooo SAD</td>\n",
              "      <td>negative</td>\n",
              "    </tr>\n",
              "    <tr>\n",
              "      <th>2</th>\n",
              "      <td>088c60f138</td>\n",
              "      <td>my boss is bullying me...</td>\n",
              "      <td>bullying me</td>\n",
              "      <td>negative</td>\n",
              "    </tr>\n",
              "    <tr>\n",
              "      <th>3</th>\n",
              "      <td>9642c003ef</td>\n",
              "      <td>what interview! leave me alone</td>\n",
              "      <td>leave me alone</td>\n",
              "      <td>negative</td>\n",
              "    </tr>\n",
              "    <tr>\n",
              "      <th>4</th>\n",
              "      <td>358bd9e861</td>\n",
              "      <td>Sons of ****, why couldn`t they put them on t...</td>\n",
              "      <td>Sons of ****,</td>\n",
              "      <td>negative</td>\n",
              "    </tr>\n",
              "    <tr>\n",
              "      <th>...</th>\n",
              "      <td>...</td>\n",
              "      <td>...</td>\n",
              "      <td>...</td>\n",
              "      <td>...</td>\n",
              "    </tr>\n",
              "    <tr>\n",
              "      <th>27476</th>\n",
              "      <td>4eac33d1c0</td>\n",
              "      <td>wish we could come see u on Denver  husband l...</td>\n",
              "      <td>d lost</td>\n",
              "      <td>negative</td>\n",
              "    </tr>\n",
              "    <tr>\n",
              "      <th>27477</th>\n",
              "      <td>4f4c4fc327</td>\n",
              "      <td>I`ve wondered about rake to.  The client has ...</td>\n",
              "      <td>, don`t force</td>\n",
              "      <td>negative</td>\n",
              "    </tr>\n",
              "    <tr>\n",
              "      <th>27478</th>\n",
              "      <td>f67aae2310</td>\n",
              "      <td>Yay good for both of you. Enjoy the break - y...</td>\n",
              "      <td>Yay good for both of you.</td>\n",
              "      <td>positive</td>\n",
              "    </tr>\n",
              "    <tr>\n",
              "      <th>27479</th>\n",
              "      <td>ed167662a5</td>\n",
              "      <td>But it was worth it  ****.</td>\n",
              "      <td>But it was worth it  ****.</td>\n",
              "      <td>positive</td>\n",
              "    </tr>\n",
              "    <tr>\n",
              "      <th>27480</th>\n",
              "      <td>6f7127d9d7</td>\n",
              "      <td>All this flirting going on - The ATG smiles...</td>\n",
              "      <td>All this flirting going on - The ATG smiles. Y...</td>\n",
              "      <td>neutral</td>\n",
              "    </tr>\n",
              "  </tbody>\n",
              "</table>\n",
              "<p>27481 rows × 4 columns</p>\n",
              "</div>\n",
              "      <button class=\"colab-df-convert\" onclick=\"convertToInteractive('df-770a0ac7-8f0e-46be-8ddb-6a7bcd20507a')\"\n",
              "              title=\"Convert this dataframe to an interactive table.\"\n",
              "              style=\"display:none;\">\n",
              "        \n",
              "  <svg xmlns=\"http://www.w3.org/2000/svg\" height=\"24px\"viewBox=\"0 0 24 24\"\n",
              "       width=\"24px\">\n",
              "    <path d=\"M0 0h24v24H0V0z\" fill=\"none\"/>\n",
              "    <path d=\"M18.56 5.44l.94 2.06.94-2.06 2.06-.94-2.06-.94-.94-2.06-.94 2.06-2.06.94zm-11 1L8.5 8.5l.94-2.06 2.06-.94-2.06-.94L8.5 2.5l-.94 2.06-2.06.94zm10 10l.94 2.06.94-2.06 2.06-.94-2.06-.94-.94-2.06-.94 2.06-2.06.94z\"/><path d=\"M17.41 7.96l-1.37-1.37c-.4-.4-.92-.59-1.43-.59-.52 0-1.04.2-1.43.59L10.3 9.45l-7.72 7.72c-.78.78-.78 2.05 0 2.83L4 21.41c.39.39.9.59 1.41.59.51 0 1.02-.2 1.41-.59l7.78-7.78 2.81-2.81c.8-.78.8-2.07 0-2.86zM5.41 20L4 18.59l7.72-7.72 1.47 1.35L5.41 20z\"/>\n",
              "  </svg>\n",
              "      </button>\n",
              "      \n",
              "  <style>\n",
              "    .colab-df-container {\n",
              "      display:flex;\n",
              "      flex-wrap:wrap;\n",
              "      gap: 12px;\n",
              "    }\n",
              "\n",
              "    .colab-df-convert {\n",
              "      background-color: #E8F0FE;\n",
              "      border: none;\n",
              "      border-radius: 50%;\n",
              "      cursor: pointer;\n",
              "      display: none;\n",
              "      fill: #1967D2;\n",
              "      height: 32px;\n",
              "      padding: 0 0 0 0;\n",
              "      width: 32px;\n",
              "    }\n",
              "\n",
              "    .colab-df-convert:hover {\n",
              "      background-color: #E2EBFA;\n",
              "      box-shadow: 0px 1px 2px rgba(60, 64, 67, 0.3), 0px 1px 3px 1px rgba(60, 64, 67, 0.15);\n",
              "      fill: #174EA6;\n",
              "    }\n",
              "\n",
              "    [theme=dark] .colab-df-convert {\n",
              "      background-color: #3B4455;\n",
              "      fill: #D2E3FC;\n",
              "    }\n",
              "\n",
              "    [theme=dark] .colab-df-convert:hover {\n",
              "      background-color: #434B5C;\n",
              "      box-shadow: 0px 1px 3px 1px rgba(0, 0, 0, 0.15);\n",
              "      filter: drop-shadow(0px 1px 2px rgba(0, 0, 0, 0.3));\n",
              "      fill: #FFFFFF;\n",
              "    }\n",
              "  </style>\n",
              "\n",
              "      <script>\n",
              "        const buttonEl =\n",
              "          document.querySelector('#df-770a0ac7-8f0e-46be-8ddb-6a7bcd20507a button.colab-df-convert');\n",
              "        buttonEl.style.display =\n",
              "          google.colab.kernel.accessAllowed ? 'block' : 'none';\n",
              "\n",
              "        async function convertToInteractive(key) {\n",
              "          const element = document.querySelector('#df-770a0ac7-8f0e-46be-8ddb-6a7bcd20507a');\n",
              "          const dataTable =\n",
              "            await google.colab.kernel.invokeFunction('convertToInteractive',\n",
              "                                                     [key], {});\n",
              "          if (!dataTable) return;\n",
              "\n",
              "          const docLinkHtml = 'Like what you see? Visit the ' +\n",
              "            '<a target=\"_blank\" href=https://colab.research.google.com/notebooks/data_table.ipynb>data table notebook</a>'\n",
              "            + ' to learn more about interactive tables.';\n",
              "          element.innerHTML = '';\n",
              "          dataTable['output_type'] = 'display_data';\n",
              "          await google.colab.output.renderOutput(dataTable, element);\n",
              "          const docLink = document.createElement('div');\n",
              "          docLink.innerHTML = docLinkHtml;\n",
              "          element.appendChild(docLink);\n",
              "        }\n",
              "      </script>\n",
              "    </div>\n",
              "  </div>\n",
              "  "
            ],
            "text/plain": [
              "           textID                                               text  \\\n",
              "0      cb774db0d1                I`d have responded, if I were going   \n",
              "1      549e992a42      Sooo SAD I will miss you here in San Diego!!!   \n",
              "2      088c60f138                          my boss is bullying me...   \n",
              "3      9642c003ef                     what interview! leave me alone   \n",
              "4      358bd9e861   Sons of ****, why couldn`t they put them on t...   \n",
              "...           ...                                                ...   \n",
              "27476  4eac33d1c0   wish we could come see u on Denver  husband l...   \n",
              "27477  4f4c4fc327   I`ve wondered about rake to.  The client has ...   \n",
              "27478  f67aae2310   Yay good for both of you. Enjoy the break - y...   \n",
              "27479  ed167662a5                         But it was worth it  ****.   \n",
              "27480  6f7127d9d7     All this flirting going on - The ATG smiles...   \n",
              "\n",
              "                                           selected_text sentiment  \n",
              "0                    I`d have responded, if I were going   neutral  \n",
              "1                                               Sooo SAD  negative  \n",
              "2                                            bullying me  negative  \n",
              "3                                         leave me alone  negative  \n",
              "4                                          Sons of ****,  negative  \n",
              "...                                                  ...       ...  \n",
              "27476                                             d lost  negative  \n",
              "27477                                      , don`t force  negative  \n",
              "27478                          Yay good for both of you.  positive  \n",
              "27479                         But it was worth it  ****.  positive  \n",
              "27480  All this flirting going on - The ATG smiles. Y...   neutral  \n",
              "\n",
              "[27481 rows x 4 columns]"
            ]
          },
          "execution_count": 24,
          "metadata": {},
          "output_type": "execute_result"
        }
      ],
      "source": [
        "from pyspark.sql import SparkSession\n",
        "spark = SparkSession.builder.appName(\"NaiveBayes\").getOrCreate()\n",
        "# url =\"https://tweet-2022.s3.amazonaws.com/Tweets.csv\"\n",
        "# spark.sparkContext.addFile(url)\n",
        "# spark_tweets_df = spark.read.csv(SparkFiles.get(\"Tweets.csv\"), sep=\",\", header=True)\n",
        "# tweets_df = spark.read.csv(SparkFiles.get(\"Tweets.csv\"), sep=\",\", header=True)\n",
        "\n",
        "\n",
        "nb_tweets_df = pd.read_csv(\"/content/Tweets.csv\")\n",
        "# tweets_df=spark_tweets_df.toPandas()\n",
        "nb_tweets_df"
      ]
    },
    {
      "cell_type": "code",
      "execution_count": 25,
      "id": "l3Gb21sVSjCs",
      "metadata": {
        "id": "l3Gb21sVSjCs"
      },
      "outputs": [],
      "source": [
        "def nb_process_tweets(tweet):\n",
        "    # make the text all lowercase\n",
        "    tweet = tweet.lower()\n",
        "    \n",
        "    # remove punctuation\n",
        "    tweet = \"\".join(char for char in tweet if char not in string.punctuation)\n",
        "  \n",
        "    # remove urls\n",
        "    tweet_wo_stop = \"\".join([i for i in tweet if 'http' not in i])\n",
        "    \n",
        "    \n",
        "    # lemmatization\n",
        "    lemm = WordNetLemmatizer()\n",
        "    lemmed = [lemm.lemmatize(word) for word in tweet_wo_stop]\n",
        "    \n",
        "    # put string together\n",
        "    final_tweet = \"\".join(lemmed)\n",
        "    \n",
        "    return final_tweet\n",
        "nb_tweets_df['text'] = nb_tweets_df['text'].astype('str')\n",
        "\n",
        "# delete the unneccessary columns\n",
        "nb_tweets_df = nb_tweets_df.drop(columns=[\"textID\", \"selected_text\"])\n",
        "nb_tweets_df=nb_tweets_df.rename(columns={'sentiment':'class'})\n",
        "nb_tweets_df=nb_tweets_df[['class','text']]\n",
        "nb_tweets_df['text'] = nb_tweets_df['text'].apply(lambda x: nb_process_tweets(x))\n",
        "\n",
        "\n",
        "nb_opt=nb_tweets_df.loc[nb_tweets_df['class']!=\"neutral\"]"
      ]
    },
    {
      "cell_type": "code",
      "execution_count": 26,
      "id": "68yRlnxfVV14",
      "metadata": {
        "colab": {
          "base_uri": "https://localhost:8080/"
        },
        "id": "68yRlnxfVV14",
        "outputId": "2c86b238-fd0a-490c-de16-f3d85aae0768"
      },
      "outputs": [
        {
          "name": "stdout",
          "output_type": "stream",
          "text": [
            "Looking in indexes: https://pypi.org/simple, https://us-python.pkg.dev/colab-wheels/public/simple/\n",
            "Collecting quinn\n",
            "  Downloading quinn-0.9.0-py2.py3-none-any.whl (9.3 kB)\n",
            "Installing collected packages: quinn\n",
            "Successfully installed quinn-0.9.0\n"
          ]
        }
      ],
      "source": [
        "pip install quinn"
      ]
    },
    {
      "cell_type": "code",
      "execution_count": 32,
      "id": "2mJ0-r_6fr2w",
      "metadata": {
        "id": "2mJ0-r_6fr2w"
      },
      "outputs": [],
      "source": [
        "from pyspark.ml.classification import NaiveBayes\n",
        "from pyspark.ml.feature import Tokenizer, StopWordsRemover, HashingTF, IDF, StringIndexer\n",
        "from pyspark.ml.feature import VectorAssembler\n",
        "from pyspark.ml.linalg import Vector\n",
        "from pyspark.ml import Pipeline\n",
        "from pyspark.sql import SQLContext\n",
        "import quinn\n",
        "from pyspark.ml.evaluation import MulticlassClassificationEvaluator\n",
        "\n",
        "def create_nb(tweets_df,attempt_num,model,train_size):\n",
        "    \n",
        "    # Create all the features to the data set\n",
        "    pos_neg_to_num = StringIndexer(inputCol='class',outputCol='label')\n",
        "    tokenizer = Tokenizer(inputCol=\"text\", outputCol=\"token_text\")\n",
        "    stopremove = StopWordsRemover(inputCol='token_text',outputCol='stop_tokens')\n",
        "    hashingTF = HashingTF(inputCol=\"stop_tokens\", outputCol='hash_token')\n",
        "    idf = IDF(inputCol='hash_token', outputCol='idf_token')\n",
        "    \n",
        "    # Create feature vectors\n",
        "    clean_up = VectorAssembler(inputCols=['idf_token', 'length'], outputCol='features')\n",
        "    data_prep_pipeline = Pipeline(stages=[pos_neg_to_num, tokenizer, stopremove, hashingTF, idf, clean_up])\n",
        "    sc = SparkSession.builder.getOrCreate()\n",
        "    sqlContext = SQLContext(sc)\n",
        "    spark_tweets = sqlContext.createDataFrame(tweets_df)\n",
        "\n",
        "\n",
        "    trimmed=spark_tweets.withColumn('description',quinn.single_space(spark_tweets['text']))\n",
        "    trimmed=trimmed.select('class','description')\n",
        "    trimmed=trimmed.withColumnRenamed('description','text')\n",
        "    trimmed=trimmed.toPandas()\n",
        "    trimmed['length']=\"\"\n",
        "    for index,row in trimmed.iterrows():\n",
        "      nb_tweet_length=len(row['text'])\n",
        "      trimmed.loc[index,'length']=nb_tweet_length\n",
        "    trimmed_spark=sqlContext.createDataFrame(trimmed)\n",
        "    cleaner = data_prep_pipeline.fit(trimmed_spark)\n",
        "    cleaned = cleaner.transform(trimmed_spark)\n",
        "\n",
        "    # cleaner = data_prep_pipeline.fit(spark_tweets)\n",
        "    # cleaned = cleaner.transform(spark_tweets)\n",
        "    \n",
        "    # Break data down into a training set and a testing set\n",
        "    # training, testing = cleaned.randomSplit([0.7, 0.3])\n",
        "    training, testing = cleaned.randomSplit([train_size, 1-train_size])\n",
        "    predictor = nb.fit(training)\n",
        "    \n",
        "    test_results = predictor.transform(testing)\n",
        "    acc_eval = MulticlassClassificationEvaluator(labelCol=\"label\")\n",
        "    acc = acc_eval.evaluate(test_results)\n",
        "    predictionAndTarget = test_results.select(\"label\", \"prediction\")\n",
        "\n",
        "  # Get metrics\n",
        "\n",
        "    f1 = acc_eval.evaluate(predictionAndTarget, {acc_eval.metricName: \"f1\"})\n",
        "    weightedPrecision = acc_eval.evaluate(predictionAndTarget, {acc_eval.metricName: \"weightedPrecision\"})\n",
        "    weightedRecall = acc_eval.evaluate(predictionAndTarget, {acc_eval.metricName: \"weightedRecall\"})\n",
        "    auc = acc_eval.evaluate(predictionAndTarget)\n",
        "    print(f\"Testing Accuracy of model:  {acc}\")\n",
        "    print(f\"Precision of model:  {weightedPrecision}\")\n",
        "    print(f\"Recall of model: {weightedRecall}\")"
      ]
    },
    {
      "cell_type": "code",
      "execution_count": 30,
      "id": "k51XMckkgXQt",
      "metadata": {
        "colab": {
          "base_uri": "https://localhost:8080/"
        },
        "id": "k51XMckkgXQt",
        "outputId": "a2eec150-1154-4f4a-b9bb-8db656629c9f"
      },
      "outputs": [
        {
          "name": "stderr",
          "output_type": "stream",
          "text": [
            "/content/spark-3.2.3-bin-hadoop2.7/python/pyspark/sql/context.py:77: FutureWarning: Deprecated in 3.0.0. Use SparkSession.builder.getOrCreate() instead.\n",
            "  warnings.warn(\n"
          ]
        },
        {
          "name": "stdout",
          "output_type": "stream",
          "text": [
            "Accuracy of model at predicting sentiments was: 0.571905\n",
            "Accuracy of model at predicting sentiments was: 0.797238\n"
          ]
        }
      ],
      "source": [
        "nb = NaiveBayes(labelCol=\"label\", featuresCol=\"features\", modelType=\"multinomial\")\n",
        "create_nb(nb_tweets_df,1,nb,.8)\n",
        "create_nb(nb_opt,2,nb,.8)\n"
      ]
    },
    {
      "cell_type": "code",
      "execution_count": 30,
      "id": "15LI1tWalBfk",
      "metadata": {
        "id": "15LI1tWalBfk"
      },
      "outputs": [],
      "source": []
    }
  ],
  "metadata": {
    "colab": {
      "provenance": []
    },
    "kernelspec": {
      "display_name": "Python 3 (ipykernel)",
      "language": "python",
      "name": "python3"
    },
    "language_info": {
      "codemirror_mode": {
        "name": "ipython",
        "version": 3
      },
      "file_extension": ".py",
      "mimetype": "text/x-python",
      "name": "python",
      "nbconvert_exporter": "python",
      "pygments_lexer": "ipython3",
      "version": "3.9.12"
    }
  },
  "nbformat": 4,
  "nbformat_minor": 5
}
